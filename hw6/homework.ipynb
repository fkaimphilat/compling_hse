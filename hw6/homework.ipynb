{
 "cells": [
  {
   "cell_type": "markdown",
   "id": "6af66482",
   "metadata": {
    "id": "6af66482"
   },
   "source": [
    "#### Важное требование ко всей домашке в целом: в jupyter ноутбуке не должно был лишнего кода (т.е. если вы взяли за основу семинар, не забудьте удалить все лишнее)"
   ]
  },
  {
   "cell_type": "code",
   "execution_count": null,
   "id": "YIRJAYpy5W7k",
   "metadata": {
    "colab": {
     "base_uri": "https://localhost:8080/"
    },
    "id": "YIRJAYpy5W7k",
    "outputId": "ac7d817d-0ee4-4c16-c712-59c35830e65b"
   },
   "outputs": [
    {
     "name": "stdout",
     "output_type": "stream",
     "text": [
      "Requirement already satisfied: pymorphy2[fast] in /usr/local/lib/python3.7/dist-packages (0.9.1)\n",
      "Requirement already satisfied: pymorphy2-dicts-ru<3.0,>=2.4 in /usr/local/lib/python3.7/dist-packages (from pymorphy2[fast]) (2.4.417127.4579844)\n",
      "Requirement already satisfied: docopt>=0.6 in /usr/local/lib/python3.7/dist-packages (from pymorphy2[fast]) (0.6.2)\n",
      "Requirement already satisfied: dawg-python>=0.7.1 in /usr/local/lib/python3.7/dist-packages (from pymorphy2[fast]) (0.7.2)\n",
      "Requirement already satisfied: DAWG>=0.8 in /usr/local/lib/python3.7/dist-packages (from pymorphy2[fast]) (0.8.0)\n"
     ]
    }
   ],
   "source": [
    "!pip install pymorphy2[fast]"
   ]
  },
  {
   "cell_type": "code",
   "execution_count": null,
   "id": "1aed5eae",
   "metadata": {
    "id": "1aed5eae"
   },
   "outputs": [],
   "source": [
    "import tensorflow as tf\n",
    "import numpy as np\n",
    "import pandas as pd\n",
    "from string import punctuation\n",
    "from sklearn.model_selection import train_test_split\n",
    "from collections import Counter\n",
    "import matplotlib.pyplot as plt\n",
    "from sklearn.decomposition import TruncatedSVD\n",
    "from sklearn.feature_extraction.text import CountVectorizer\n",
    "from sklearn.metrics.pairwise import cosine_distances\n",
    "\n",
    "from IPython.display import Image\n",
    "from IPython.core.display import HTML \n",
    "%matplotlib inline"
   ]
  },
  {
   "cell_type": "code",
   "execution_count": null,
   "id": "oP25BR_bi70t",
   "metadata": {
    "colab": {
     "base_uri": "https://localhost:8080/"
    },
    "id": "oP25BR_bi70t",
    "outputId": "1f64ed42-0255-4ce6-8f4c-86798919b39b"
   },
   "outputs": [
    {
     "name": "stdout",
     "output_type": "stream",
     "text": [
      "Drive already mounted at /content/drive; to attempt to forcibly remount, call drive.mount(\"/content/drive\", force_remount=True).\n"
     ]
    }
   ],
   "source": [
    "from google.colab import drive\n",
    "drive.mount('/content/drive')"
   ]
  },
  {
   "cell_type": "code",
   "execution_count": null,
   "id": "bE3IFhsckGme",
   "metadata": {
    "id": "bE3IFhsckGme"
   },
   "outputs": [],
   "source": [
    "wiki0 = open('/content/drive/MyDrive/hw6/wiki_data.txt').read().split('\\n')"
   ]
  },
  {
   "cell_type": "code",
   "execution_count": null,
   "id": "egK7E6IpiyaJ",
   "metadata": {
    "id": "egK7E6IpiyaJ"
   },
   "outputs": [],
   "source": [
    "wiki = open('/content/drive/MyDrive/hw6/wiki_data.txt').read().splitlines()[:5000]"
   ]
  },
  {
   "cell_type": "markdown",
   "id": "9c422aa0",
   "metadata": {
    "id": "9c422aa0"
   },
   "source": [
    "# Задание 1 (3 балла)"
   ]
  },
  {
   "cell_type": "markdown",
   "id": "e4a72790",
   "metadata": {
    "id": "e4a72790"
   },
   "source": [
    "Обучите word2vec модели с негативным семплированием (cbow и skip-gram) с помощью tensorflow аналогично тому, как это было сделано в семинаре. Вам нужно изменить следующие пункты: \n",
    "1) добавьте лемматизацию в предобработку (любым способом)  \n",
    "2) измените размер окна на 6 для cbow и 12 для skip gram (обратите внимание, что размер окна = #слов слева + #слов справа, в gen_batches в семинаре window не так используется)  \n",
    "3) измените часть с np.random.randint(vocab_size) так, чтобы случайные негативные примеры выбирались обратно пропорционально частотностям слов (частотные должны выбираться реже, а редкие чаще)\n",
    "\n",
    "Выберете несколько не похожих по смыслу слов, и протестируйте полученные эмбединги (найдите ближайшие слова и оцените правильность, как в семинаре)"
   ]
  },
  {
   "cell_type": "code",
   "execution_count": null,
   "id": "SfKmbPKFpte2",
   "metadata": {
    "id": "SfKmbPKFpte2"
   },
   "outputs": [],
   "source": [
    "#лемматизация с помощью PyMorphy\n",
    "from pymorphy2 import MorphAnalyzer\n",
    "morph = MorphAnalyzer()"
   ]
  },
  {
   "cell_type": "code",
   "execution_count": null,
   "id": "cde5fd96",
   "metadata": {
    "id": "cde5fd96"
   },
   "outputs": [],
   "source": [
    "def preprocess(text):\n",
    "    tokens = text.lower().split()\n",
    "    tokens = [morph.parse(token)[0].normal_form for token in tokens]\n",
    "    return tokens"
   ]
  },
  {
   "cell_type": "code",
   "execution_count": null,
   "id": "4f71d7cb",
   "metadata": {
    "id": "4f71d7cb"
   },
   "outputs": [],
   "source": [
    "vocab = Counter()\n",
    "for text in wiki:\n",
    "    vocab.update(preprocess(text))"
   ]
  },
  {
   "cell_type": "code",
   "execution_count": null,
   "id": "5g-EpehQk2MR",
   "metadata": {
    "colab": {
     "base_uri": "https://localhost:8080/"
    },
    "id": "5g-EpehQk2MR",
    "outputId": "ffafc76c-bda5-44e8-feac-49fbdf98dbd0"
   },
   "outputs": [
    {
     "data": {
      "text/plain": [
       "4053"
      ]
     },
     "execution_count": 34,
     "metadata": {},
     "output_type": "execute_result"
    }
   ],
   "source": [
    "filtered_vocab = set()\n",
    "\n",
    "for word in vocab:\n",
    "    if vocab[word] > 30:\n",
    "        filtered_vocab.add(word)\n",
    "\n",
    "len(filtered_vocab)"
   ]
  },
  {
   "cell_type": "code",
   "execution_count": null,
   "id": "Qcb6pV8ElKMJ",
   "metadata": {
    "id": "Qcb6pV8ElKMJ"
   },
   "outputs": [],
   "source": [
    "word2id = { 'PAD':0}\n",
    "\n",
    "for word in filtered_vocab:\n",
    "    word2id[word] = len(word2id)"
   ]
  },
  {
   "cell_type": "code",
   "execution_count": null,
   "id": "FuRJTSQmlMjQ",
   "metadata": {
    "id": "FuRJTSQmlMjQ"
   },
   "outputs": [],
   "source": [
    "id2word = {i:word for word, i in word2id.items()}"
   ]
  },
  {
   "cell_type": "code",
   "execution_count": null,
   "id": "KeNUKWSQlO6T",
   "metadata": {
    "id": "KeNUKWSQlO6T"
   },
   "outputs": [],
   "source": [
    "sentences = []\n",
    "\n",
    "for text in wiki:\n",
    "    tokens = preprocess(text)\n",
    "    ids = [word2id[token] for token in tokens if token in word2id]\n",
    "    sentences.append(ids)"
   ]
  },
  {
   "cell_type": "code",
   "execution_count": null,
   "id": "PkrS06qvmU-t",
   "metadata": {
    "id": "PkrS06qvmU-t"
   },
   "outputs": [],
   "source": [
    "vocab_size = len(id2word)"
   ]
  },
  {
   "cell_type": "code",
   "execution_count": null,
   "id": "sV7FewcKl1ww",
   "metadata": {
    "id": "sV7FewcKl1ww"
   },
   "outputs": [],
   "source": [
    "# skip gram\n",
    "def gen_batches_sg(sentences, window, batch_size=1000):\n",
    "    while True:\n",
    "        X_target = []\n",
    "        X_context = []\n",
    "        y = []\n",
    "\n",
    "        for sent in sentences:\n",
    "            for i in range(len(sent)-1):\n",
    "                word = sent[i]\n",
    "                context = sent[max(0, i-window//2):i] + sent[i+1:i+window//2] #делю окно пополам, т.к. его размер кратен 2, а целое окно даст нам в два раза больше контекста\n",
    "                for context_word in context:\n",
    "                    X_target.append(word)\n",
    "                    X_context.append(context_word)\n",
    "                    y.append(1)\n",
    "                    \n",
    "                    X_target.append(word)\n",
    "                    X_context.append(np.random.randint(vocab_size))\n",
    "                    y.append(0)\n",
    "                    \n",
    "                    if len(X_target) >= batch_size:\n",
    "                        X_target = np.array(X_target)\n",
    "                        X_context = np.array(X_context)\n",
    "                        y = np.array(y)\n",
    "                        yield ((X_target, X_context), y)\n",
    "                        X_target = []\n",
    "                        X_context = []\n",
    "                        y = []"
   ]
  },
  {
   "cell_type": "code",
   "execution_count": null,
   "id": "4MSssLBll4Su",
   "metadata": {
    "id": "4MSssLBll4Su"
   },
   "outputs": [],
   "source": [
    "# cbow \n",
    "def gen_batches_cbow(sentences, window, batch_size=1000):\n",
    "    while True:\n",
    "        X_target = []\n",
    "        X_context = []\n",
    "        y = []\n",
    "\n",
    "        for sent in sentences:\n",
    "            for i in range(len(sent)-1):\n",
    "                word = sent[i]\n",
    "                context = sent[max(0, i-window//2):i] + sent[i+1:i+window//2] #делю окно пополам, т.к. его размер кратен 2, а целое окно даст нам в два раза больше контекста\n",
    "\n",
    "                X_target.append(word)\n",
    "                X_context.append(context)\n",
    "                y.append(1)\n",
    "                \n",
    "                X_target.append(np.random.randint(vocab_size))\n",
    "                X_context.append(context)\n",
    "                y.append(0)\n",
    "\n",
    "                if len(X_target) == batch_size:\n",
    "                    X_target = np.array(X_target)\n",
    "                    X_context = tf.keras.preprocessing.sequence.pad_sequences(X_context, maxlen=window*2)\n",
    "                    y = np.array(y)\n",
    "                    yield ((X_target, X_context), y)\n",
    "                    X_target = []\n",
    "                    X_context = []\n",
    "                    y = []"
   ]
  },
  {
   "cell_type": "code",
   "execution_count": null,
   "id": "k37ScbODl78x",
   "metadata": {
    "id": "k37ScbODl78x"
   },
   "outputs": [],
   "source": [
    "inputs_target = tf.keras.layers.Input(shape=(1,))\n",
    "inputs_context = tf.keras.layers.Input(shape=(1,))\n",
    "\n",
    "\n",
    "embeddings_target = tf.keras.layers.Embedding(input_dim=len(word2id), output_dim=300)(inputs_target, )\n",
    "embeddings_context = tf.keras.layers.Embedding(input_dim=len(word2id), output_dim=300)(inputs_context, )\n",
    "\n",
    "target = tf.keras.layers.Flatten()(embeddings_target)\n",
    "context = tf.keras.layers.Flatten()(embeddings_context)\n",
    "\n",
    "dot = tf.keras.layers.Dot(1)([target, context])\n",
    "outputs = tf.keras.layers.Activation(activation='sigmoid')(dot)\n",
    "\n",
    "model = tf.keras.Model(inputs=[inputs_target, inputs_context], \n",
    "                       outputs=outputs)\n",
    "optimizer = tf.keras.optimizers.Adam(learning_rate=0.001)\n",
    "model.compile(optimizer=optimizer,\n",
    "              loss='binary_crossentropy',\n",
    "              metrics=['accuracy'])"
   ]
  },
  {
   "cell_type": "code",
   "execution_count": null,
   "id": "obKQMHSQmFfq",
   "metadata": {
    "colab": {
     "base_uri": "https://localhost:8080/"
    },
    "id": "obKQMHSQmFfq",
    "outputId": "327329e9-0de9-4014-e0fe-ef9a6d452804"
   },
   "outputs": [
    {
     "name": "stdout",
     "output_type": "stream",
     "text": [
      "Epoch 1/2\n",
      "10000/10000 [==============================] - 324s 32ms/step - loss: 0.4768 - accuracy: 0.7755 - val_loss: 0.4973 - val_accuracy: 0.7570\n",
      "Epoch 2/2\n",
      "10000/10000 [==============================] - 323s 32ms/step - loss: 0.4562 - accuracy: 0.7868 - val_loss: 0.5008 - val_accuracy: 0.7654\n"
     ]
    },
    {
     "data": {
      "text/plain": [
       "<keras.callbacks.History at 0x7ffa1f2cce10>"
      ]
     },
     "execution_count": 42,
     "metadata": {},
     "output_type": "execute_result"
    }
   ],
   "source": [
    "model.fit(gen_batches_sg(sentences[:4000], window=12),\n",
    "          validation_data=gen_batches_sg(sentences[4000:],  window=12),\n",
    "          batch_size=1000,\n",
    "          steps_per_epoch=10000,\n",
    "          validation_steps=30,\n",
    "         epochs=2)"
   ]
  },
  {
   "cell_type": "code",
   "execution_count": null,
   "id": "mbp26a10mdGi",
   "metadata": {
    "id": "mbp26a10mdGi"
   },
   "outputs": [],
   "source": [
    "embeddings_sg = model.layers[2].get_weights()[0]"
   ]
  },
  {
   "cell_type": "code",
   "execution_count": null,
   "id": "J7SmJKTij4hm",
   "metadata": {
    "id": "J7SmJKTij4hm"
   },
   "outputs": [],
   "source": [
    "def most_similar(word, embeddings):\n",
    "    similar = [id2word[i] for i in \n",
    "               cosine_distances(embeddings[word2id[word]].reshape(1, -1), embeddings).argsort()[0][:10]]\n",
    "    return similar"
   ]
  },
  {
   "cell_type": "code",
   "execution_count": null,
   "id": "l--SmMWnmfpY",
   "metadata": {
    "id": "l--SmMWnmfpY"
   },
   "outputs": [],
   "source": [
    "#cbow negative sampling\n",
    "inputs_target = tf.keras.layers.Input(shape=(1,))\n",
    "inputs_context = tf.keras.layers.Input(shape=(10,))\n",
    "\n",
    "\n",
    "embeddings_target = tf.keras.layers.Embedding(input_dim=len(word2id), output_dim=300)(inputs_target, )\n",
    "embeddings_context = tf.keras.layers.Embedding(input_dim=len(word2id), output_dim=300)(inputs_context, )\n",
    "\n",
    "target = tf.keras.layers.Flatten()(embeddings_target)\n",
    "context = tf.keras.layers.Lambda(lambda x: tf.keras.backend.sum(x, axis=1))(embeddings_context)\n",
    "dot = tf.keras.layers.Dot(1)([target, context])\n",
    "\n",
    "# полученную близость нужно преобразовать в вероятность\n",
    "# когда она одна используется не софтмакс и сигмоида\n",
    "outputs = tf.keras.layers.Activation(activation='sigmoid')(dot)\n",
    "\n",
    "model = tf.keras.Model(inputs=[inputs_target, inputs_context], \n",
    "                       outputs=outputs)\n",
    "\n",
    "\n",
    "optimizer = tf.keras.optimizers.Adam(learning_rate=0.001)\n",
    "model.compile(optimizer=optimizer,\n",
    "              loss='binary_crossentropy',\n",
    "              metrics=['accuracy'])\n"
   ]
  },
  {
   "cell_type": "code",
   "execution_count": null,
   "id": "obbrsQ1KmiO9",
   "metadata": {
    "colab": {
     "background_save": true,
     "base_uri": "https://localhost:8080/"
    },
    "id": "obbrsQ1KmiO9",
    "outputId": "117e22ad-d4aa-4cc6-9cc3-b0adadc6fdf4"
   },
   "outputs": [
    {
     "name": "stdout",
     "output_type": "stream",
     "text": [
      "Epoch 1/2\n",
      "5000/5000 [==============================] - 230s 46ms/step - loss: 0.3532 - accuracy: 0.8418 - val_loss: 0.3550 - val_accuracy: 0.8509\n",
      "Epoch 2/2\n",
      "5000/5000 [==============================] - 230s 46ms/step - loss: 0.2095 - accuracy: 0.9191 - val_loss: 0.4444 - val_accuracy: 0.8385\n"
     ]
    },
    {
     "data": {
      "text/plain": [
       "<keras.callbacks.History at 0x7ffa1cdec550>"
      ]
     },
     "execution_count": null,
     "metadata": {},
     "output_type": "execute_result"
    }
   ],
   "source": [
    "model.fit(gen_batches_cbow(sentences[:4000], window=6),\n",
    "          validation_data=gen_batches_cbow(sentences[4000:],  window=6),\n",
    "          batch_size=1000,\n",
    "          steps_per_epoch=5000,\n",
    "          validation_steps=30,\n",
    "         epochs=2)"
   ]
  },
  {
   "cell_type": "code",
   "execution_count": null,
   "id": "livhjR61mk-Q",
   "metadata": {
    "colab": {
     "background_save": true
    },
    "id": "livhjR61mk-Q"
   },
   "outputs": [],
   "source": [
    "embeddings_cbow = model.layers[2].get_weights()[0]"
   ]
  },
  {
   "cell_type": "code",
   "execution_count": null,
   "id": "dGc6zOAPkoYk",
   "metadata": {
    "colab": {
     "base_uri": "https://localhost:8080/"
    },
    "id": "dGc6zOAPkoYk",
    "outputId": "82342000-6020-4e33-fd96-7790e652b417"
   },
   "outputs": [
    {
     "data": {
      "text/plain": [
       "['птица',\n",
       " 'растение',\n",
       " 'питаться',\n",
       " 'яйцо',\n",
       " 'см.',\n",
       " 'произрастать',\n",
       " 'тонкий',\n",
       " 'личинка',\n",
       " 'узкий',\n",
       " 'семя']"
      ]
     },
     "execution_count": 69,
     "metadata": {},
     "output_type": "execute_result"
    }
   ],
   "source": [
    "most_similar('птица', embeddings_sg)"
   ]
  },
  {
   "cell_type": "code",
   "execution_count": null,
   "id": "IgxjyNOlmm6h",
   "metadata": {
    "colab": {
     "base_uri": "https://localhost:8080/"
    },
    "id": "IgxjyNOlmm6h",
    "outputId": "a203311e-113c-425d-e5d3-e64fc468915c"
   },
   "outputs": [
    {
     "data": {
      "text/plain": [
       "['птица',\n",
       " 'рыба',\n",
       " 'цвета,',\n",
       " 'мм.',\n",
       " 'произрастать',\n",
       " 'старинный',\n",
       " 'обитать',\n",
       " 'полосатый',\n",
       " 'протекать',\n",
       " 'хвост']"
      ]
     },
     "execution_count": 68,
     "metadata": {},
     "output_type": "execute_result"
    }
   ],
   "source": [
    "most_similar('птица', embeddings_cbow)"
   ]
  },
  {
   "cell_type": "code",
   "execution_count": null,
   "id": "njlGxAPlsPWp",
   "metadata": {
    "colab": {
     "base_uri": "https://localhost:8080/"
    },
    "id": "njlGxAPlsPWp",
    "outputId": "64e05ecf-4110-475f-f923-6f5897e4a7e1"
   },
   "outputs": [
    {
     "data": {
      "text/plain": [
       "['любовь',\n",
       " 'ты',\n",
       " '«я',\n",
       " 'рассказывать',\n",
       " 'мой',\n",
       " 'утверждает,',\n",
       " 'написание',\n",
       " 'персонаж',\n",
       " 'чувство',\n",
       " 'текст']"
      ]
     },
     "execution_count": 70,
     "metadata": {},
     "output_type": "execute_result"
    }
   ],
   "source": [
    "most_similar('любовь', embeddings_sg)"
   ]
  },
  {
   "cell_type": "code",
   "execution_count": null,
   "id": "2YQQP_pksUWO",
   "metadata": {
    "colab": {
     "base_uri": "https://localhost:8080/"
    },
    "id": "2YQQP_pksUWO",
    "outputId": "fb4a326e-40fc-42d2-a86b-e8ce0a4d18d0"
   },
   "outputs": [
    {
     "data": {
      "text/plain": [
       "['любовь',\n",
       " 'бог',\n",
       " 'валерий',\n",
       " 'присоединиться',\n",
       " 'обращаться',\n",
       " 'приговорить',\n",
       " 'бадалбейль',\n",
       " 'маргарита',\n",
       " 'готовиться',\n",
       " 'алла']"
      ]
     },
     "execution_count": 71,
     "metadata": {},
     "output_type": "execute_result"
    }
   ],
   "source": [
    "most_similar('любовь', embeddings_cbow)"
   ]
  },
  {
   "cell_type": "code",
   "execution_count": null,
   "id": "ptGvXo3JscX2",
   "metadata": {
    "colab": {
     "base_uri": "https://localhost:8080/"
    },
    "id": "ptGvXo3JscX2",
    "outputId": "fbf91071-0273-499f-dc6b-6ebdbaa26e27"
   },
   "outputs": [
    {
     "data": {
      "text/plain": [
       "['нос',\n",
       " 'скорость',\n",
       " 'равный',\n",
       " 'вес',\n",
       " 'меньше,',\n",
       " 'максимальный',\n",
       " 'превышать',\n",
       " 'параллельный',\n",
       " 'немного',\n",
       " 'поверхность']"
      ]
     },
     "execution_count": 76,
     "metadata": {},
     "output_type": "execute_result"
    }
   ],
   "source": [
    "most_similar('нос', embeddings_sg)"
   ]
  },
  {
   "cell_type": "code",
   "execution_count": null,
   "id": "7MAZRN65sfhP",
   "metadata": {
    "colab": {
     "base_uri": "https://localhost:8080/"
    },
    "id": "7MAZRN65sfhP",
    "outputId": "da199957-e093-41fd-9768-60a7eb17c9b1"
   },
   "outputs": [
    {
     "data": {
      "text/plain": [
       "['нос',\n",
       " 'мм',\n",
       " 'меч',\n",
       " 'окраска',\n",
       " 'мм,',\n",
       " 'мм.',\n",
       " 'москва)',\n",
       " 'года.##############################',\n",
       " 'женщины.##############################',\n",
       " 'PAD']"
      ]
     },
     "execution_count": 77,
     "metadata": {},
     "output_type": "execute_result"
    }
   ],
   "source": [
    "most_similar('нос', embeddings_cbow)"
   ]
  },
  {
   "cell_type": "code",
   "execution_count": null,
   "id": "6sl1frWvswQA",
   "metadata": {
    "colab": {
     "base_uri": "https://localhost:8080/"
    },
    "id": "6sl1frWvswQA",
    "outputId": "826af8ca-ff29-45f5-8d7d-9ccc2b14390a"
   },
   "outputs": [
    {
     "data": {
      "text/plain": [
       "['наука',\n",
       " 'наук,',\n",
       " 'академик',\n",
       " 'физика',\n",
       " 'гуманитарный',\n",
       " 'специальность',\n",
       " 'учёный',\n",
       " 'факультет',\n",
       " 'институт',\n",
       " 'философия']"
      ]
     },
     "execution_count": 80,
     "metadata": {},
     "output_type": "execute_result"
    }
   ],
   "source": [
    "most_similar('наука', embeddings_sg)"
   ]
  },
  {
   "cell_type": "code",
   "execution_count": null,
   "id": "z8vOl94asyGv",
   "metadata": {
    "colab": {
     "base_uri": "https://localhost:8080/"
    },
    "id": "z8vOl94asyGv",
    "outputId": "f479f478-f4cd-4216-d428-4282d228b499"
   },
   "outputs": [
    {
     "data": {
      "text/plain": [
       "['наука',\n",
       " 'наук,',\n",
       " 'архитектура',\n",
       " 'университета.',\n",
       " 'искусства,',\n",
       " 'медицина',\n",
       " 'академик',\n",
       " 'экономика',\n",
       " 'гуманитарный',\n",
       " 'медицинский']"
      ]
     },
     "execution_count": 81,
     "metadata": {},
     "output_type": "execute_result"
    }
   ],
   "source": [
    "most_similar('наука', embeddings_cbow)"
   ]
  },
  {
   "cell_type": "markdown",
   "id": "c3b61b7c",
   "metadata": {
    "id": "c3b61b7c"
   },
   "source": [
    "# Задание 2 (3 балла)"
   ]
  },
  {
   "cell_type": "markdown",
   "id": "66eff080",
   "metadata": {
    "id": "66eff080"
   },
   "source": [
    "Обучите 1 word2vec и 1 fastext модель в gensim. В каждой из модели нужно задать все параметры, которые мы разбирали на семинаре. Заданные значения должны отличаться от дефолтных и от тех, что мы использовали на семинаре."
   ]
  },
  {
   "cell_type": "code",
   "execution_count": null,
   "id": "986c2018",
   "metadata": {
    "id": "986c2018"
   },
   "outputs": [],
   "source": [
    "import gensim"
   ]
  },
  {
   "cell_type": "code",
   "execution_count": null,
   "id": "DqvBs7ay9fUS",
   "metadata": {
    "id": "DqvBs7ay9fUS"
   },
   "outputs": [],
   "source": [
    "def preprocess_simple(text):\n",
    "    tokens = text.lower().split()\n",
    "    tokens = [token.strip(punctuation) for token in tokens]\n",
    "    return tokens"
   ]
  },
  {
   "cell_type": "code",
   "execution_count": null,
   "id": "dYea35k09SC0",
   "metadata": {
    "id": "dYea35k09SC0"
   },
   "outputs": [],
   "source": [
    "texts = [preprocess_simple(text) for text in wiki]"
   ]
  },
  {
   "cell_type": "markdown",
   "id": "lmNfZCD2-7yc",
   "metadata": {
    "id": "lmNfZCD2-7yc"
   },
   "source": [
    "## Word2Vec"
   ]
  },
  {
   "cell_type": "code",
   "execution_count": null,
   "id": "of8ZulJK9UB4",
   "metadata": {
    "colab": {
     "base_uri": "https://localhost:8080/"
    },
    "id": "of8ZulJK9UB4",
    "outputId": "5676c19b-325f-477c-ba2c-6dbe40ddce1f"
   },
   "outputs": [
    {
     "name": "stdout",
     "output_type": "stream",
     "text": [
      "CPU times: user 26.2 s, sys: 89.5 ms, total: 26.3 s\n",
      "Wall time: 14.4 s\n"
     ]
    }
   ],
   "source": [
    "%%time\n",
    "w2v = gensim.models.Word2Vec(texts, \n",
    "                             vector_size=200,\n",
    "                             min_count=40,\n",
    "                             max_vocab_size=15000,\n",
    "                             window=6,\n",
    "                             epochs=5,\n",
    "                             sg=1,\n",
    "                             hs=0,\n",
    "                             negative=6,\n",
    "                             sample=1e-4,\n",
    "                             ns_exponent=0)"
   ]
  },
  {
   "cell_type": "code",
   "execution_count": null,
   "id": "7hfmjEU09-Zk",
   "metadata": {
    "colab": {
     "base_uri": "https://localhost:8080/"
    },
    "id": "7hfmjEU09-Zk",
    "outputId": "7fa7025f-5262-4b09-ec32-03cb0f6539ce"
   },
   "outputs": [
    {
     "data": {
      "text/plain": [
       "[('построена', 0.9310739636421204),\n",
       " ('храм', 0.9217038154602051),\n",
       " ('храма', 0.9060737490653992),\n",
       " ('собора', 0.8876604437828064),\n",
       " ('монастыря', 0.8784587979316711),\n",
       " ('собор', 0.8770540952682495),\n",
       " ('святого', 0.8611245155334473),\n",
       " ('монастырь', 0.8600257039070129),\n",
       " ('николая', 0.8557025194168091),\n",
       " ('здание', 0.8465665578842163)]"
      ]
     },
     "execution_count": 27,
     "metadata": {},
     "output_type": "execute_result"
    }
   ],
   "source": [
    "w2v.wv.most_similar('церковь')"
   ]
  },
  {
   "cell_type": "code",
   "execution_count": null,
   "id": "Z7B-my7Q-wHf",
   "metadata": {
    "colab": {
     "base_uri": "https://localhost:8080/"
    },
    "id": "Z7B-my7Q-wHf",
    "outputId": "927a082e-63ce-4b98-ff2c-c6fdef7b7894"
   },
   "outputs": [
    {
     "data": {
      "text/plain": [
       "[('отец', 0.9471056461334229),\n",
       " ('семья', 0.9322947859764099),\n",
       " ('отца', 0.9087460041046143),\n",
       " ('жены', 0.8901433348655701),\n",
       " ('брат', 0.8825151324272156),\n",
       " ('брата', 0.8747135996818542),\n",
       " ('ленни', 0.8596625328063965),\n",
       " ('женат', 0.8505533933639526),\n",
       " ('матери', 0.8487252593040466),\n",
       " ('сына', 0.8481094837188721)]"
      ]
     },
     "execution_count": 19,
     "metadata": {},
     "output_type": "execute_result"
    }
   ],
   "source": [
    "w2v.wv.most_similar('мать')"
   ]
  },
  {
   "cell_type": "code",
   "execution_count": null,
   "id": "DW5RaBkK-zph",
   "metadata": {
    "colab": {
     "base_uri": "https://localhost:8080/"
    },
    "id": "DW5RaBkK-zph",
    "outputId": "f9d77f64-e291-4a7c-d8fb-518b3f3ecae3"
   },
   "outputs": [
    {
     "data": {
      "text/plain": [
       "[('улице', 0.8870434761047363),\n",
       " ('здании', 0.8746968507766724),\n",
       " ('дома', 0.8675661683082581),\n",
       " ('сад', 0.8615222573280334),\n",
       " ('здание', 0.8384958505630493),\n",
       " ('архитектора', 0.8379758596420288),\n",
       " ('архитектор', 0.810909628868103),\n",
       " ('церковь', 0.7955955266952515),\n",
       " ('отделение', 0.7913660407066345),\n",
       " ('установлен', 0.7890158295631409)]"
      ]
     },
     "execution_count": 22,
     "metadata": {},
     "output_type": "execute_result"
    }
   ],
   "source": [
    "w2v.wv.most_similar('дом')"
   ]
  },
  {
   "cell_type": "markdown",
   "id": "Nm29im8E_S4v",
   "metadata": {
    "id": "Nm29im8E_S4v"
   },
   "source": [
    "## FastText"
   ]
  },
  {
   "cell_type": "code",
   "execution_count": null,
   "id": "wJEaruVr_MOO",
   "metadata": {
    "id": "wJEaruVr_MOO"
   },
   "outputs": [],
   "source": [
    "ft = gensim.models.FastText(texts, \n",
    "                            vector_size=300, \n",
    "                            min_count=50, \n",
    "                            max_vocab_size=17000,\n",
    "                            window=7,\n",
    "                            epochs=7,\n",
    "                            sg=0,\n",
    "                            hs=1,\n",
    "                            cbow_mean=0,\n",
    "                            sample=1e-4,\n",
    "                            min_n=2, \n",
    "                            max_n=10)"
   ]
  },
  {
   "cell_type": "code",
   "execution_count": null,
   "id": "60c18c5a",
   "metadata": {
    "colab": {
     "base_uri": "https://localhost:8080/"
    },
    "id": "60c18c5a",
    "outputId": "2f6c7ac4-5de2-4a26-af42-dea7b51ecb26"
   },
   "outputs": [
    {
     "data": {
      "text/plain": [
       "[('церкви', 0.8058878183364868),\n",
       " ('храма', 0.7765364646911621),\n",
       " ('храм', 0.7610180377960205),\n",
       " ('собора', 0.7036079168319702),\n",
       " ('николая', 0.6871659755706787),\n",
       " ('святого', 0.682386577129364),\n",
       " ('святой', 0.6788768768310547),\n",
       " ('память', 0.6535791754722595),\n",
       " ('построена', 0.6491827368736267),\n",
       " ('петра', 0.6444600820541382)]"
      ]
     },
     "execution_count": 28,
     "metadata": {},
     "output_type": "execute_result"
    }
   ],
   "source": [
    "ft.wv.most_similar('церковь')"
   ]
  },
  {
   "cell_type": "code",
   "execution_count": null,
   "id": "5NQHSWw7CGpE",
   "metadata": {
    "colab": {
     "base_uri": "https://localhost:8080/"
    },
    "id": "5NQHSWw7CGpE",
    "outputId": "24644b45-0899-44c6-ddff-82808fcdfdf6"
   },
   "outputs": [
    {
     "data": {
      "text/plain": [
       "[('матери', 0.8273817300796509),\n",
       " ('сына', 0.764737606048584),\n",
       " ('семь', 0.7561725378036499),\n",
       " ('играть', 0.754237949848175),\n",
       " ('семья', 0.754179835319519),\n",
       " ('анна', 0.746289074420929),\n",
       " ('стать', 0.7456331849098206),\n",
       " ('семьи', 0.7429718375205994),\n",
       " ('матча', 0.7401031255722046),\n",
       " ('мария', 0.7356366515159607)]"
      ]
     },
     "execution_count": 29,
     "metadata": {},
     "output_type": "execute_result"
    }
   ],
   "source": [
    "ft.wv.most_similar('мать')"
   ]
  },
  {
   "cell_type": "code",
   "execution_count": null,
   "id": "YiweEmDPCJPy",
   "metadata": {
    "colab": {
     "base_uri": "https://localhost:8080/"
    },
    "id": "YiweEmDPCJPy",
    "outputId": "bee0d7ff-72eb-411a-d118-0609a35249d4"
   },
   "outputs": [
    {
     "data": {
      "text/plain": [
       "[('дома', 0.9207866191864014),\n",
       " ('доме', 0.9025293588638306),\n",
       " ('домой', 0.8580576777458191),\n",
       " ('домов', 0.8421072959899902),\n",
       " ('рядом', 0.8367487192153931),\n",
       " ('до', 0.7953340411186218),\n",
       " ('городом', 0.7845953702926636),\n",
       " ('им', 0.7719498872756958),\n",
       " ('дворе', 0.7688232660293579),\n",
       " ('дворца', 0.7677013278007507)]"
      ]
     },
     "execution_count": 30,
     "metadata": {},
     "output_type": "execute_result"
    }
   ],
   "source": [
    "ft.wv.most_similar('дом')"
   ]
  },
  {
   "cell_type": "code",
   "execution_count": null,
   "id": "HAHcRT35CNGE",
   "metadata": {
    "id": "HAHcRT35CNGE"
   },
   "outputs": [],
   "source": []
  }
 ],
 "metadata": {
  "colab": {
   "name": "homework.ipynb",
   "provenance": []
  },
  "kernelspec": {
   "display_name": "Python 3",
   "language": "python",
   "name": "python3"
  },
  "language_info": {
   "codemirror_mode": {
    "name": "ipython",
    "version": 3
   },
   "file_extension": ".py",
   "mimetype": "text/x-python",
   "name": "python",
   "nbconvert_exporter": "python",
   "pygments_lexer": "ipython3",
   "version": "3.8.8"
  }
 },
 "nbformat": 4,
 "nbformat_minor": 5
}
