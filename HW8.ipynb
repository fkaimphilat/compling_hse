{
  "cells": [
    {
      "cell_type": "markdown",
      "metadata": {
        "id": "view-in-github",
        "colab_type": "text"
      },
      "source": [
        "<a href=\"https://colab.research.google.com/github/fkaimphilat/compling_hse/blob/main/HW8.ipynb\" target=\"_parent\"><img src=\"https://colab.research.google.com/assets/colab-badge.svg\" alt=\"Open In Colab\"/></a>"
      ]
    },
    {
      "cell_type": "markdown",
      "id": "1bf6f873",
      "metadata": {
        "id": "1bf6f873"
      },
      "source": [
        "# Домашнее задание № 8"
      ]
    },
    {
      "cell_type": "code",
      "source": [
        "!pip install pandas scikit-learn matplotlib"
      ],
      "metadata": {
        "id": "R-gAtOsHqF0G",
        "colab": {
          "base_uri": "https://localhost:8080/"
        },
        "outputId": "77a31827-c5ac-44b0-c37b-1f0cfcffb0e3"
      },
      "id": "R-gAtOsHqF0G",
      "execution_count": 50,
      "outputs": [
        {
          "output_type": "stream",
          "name": "stdout",
          "text": [
            "Requirement already satisfied: pandas in /usr/local/lib/python3.7/dist-packages (1.3.5)\n",
            "Requirement already satisfied: scikit-learn in /usr/local/lib/python3.7/dist-packages (1.0.2)\n",
            "Requirement already satisfied: matplotlib in /usr/local/lib/python3.7/dist-packages (3.2.2)\n",
            "Requirement already satisfied: python-dateutil>=2.7.3 in /usr/local/lib/python3.7/dist-packages (from pandas) (2.8.2)\n",
            "Requirement already satisfied: numpy>=1.17.3 in /usr/local/lib/python3.7/dist-packages (from pandas) (1.21.6)\n",
            "Requirement already satisfied: pytz>=2017.3 in /usr/local/lib/python3.7/dist-packages (from pandas) (2022.1)\n",
            "Requirement already satisfied: six>=1.5 in /usr/local/lib/python3.7/dist-packages (from python-dateutil>=2.7.3->pandas) (1.15.0)\n",
            "Requirement already satisfied: scipy>=1.1.0 in /usr/local/lib/python3.7/dist-packages (from scikit-learn) (1.4.1)\n",
            "Requirement already satisfied: joblib>=0.11 in /usr/local/lib/python3.7/dist-packages (from scikit-learn) (1.1.0)\n",
            "Requirement already satisfied: threadpoolctl>=2.0.0 in /usr/local/lib/python3.7/dist-packages (from scikit-learn) (3.1.0)\n",
            "Requirement already satisfied: cycler>=0.10 in /usr/local/lib/python3.7/dist-packages (from matplotlib) (0.11.0)\n",
            "Requirement already satisfied: kiwisolver>=1.0.1 in /usr/local/lib/python3.7/dist-packages (from matplotlib) (1.4.2)\n",
            "Requirement already satisfied: pyparsing!=2.0.4,!=2.1.2,!=2.1.6,>=2.0.1 in /usr/local/lib/python3.7/dist-packages (from matplotlib) (3.0.9)\n",
            "Requirement already satisfied: typing-extensions in /usr/local/lib/python3.7/dist-packages (from kiwisolver>=1.0.1->matplotlib) (4.2.0)\n"
          ]
        }
      ]
    },
    {
      "cell_type": "code",
      "source": [
        "from google.colab import drive\n",
        "drive.mount('/content/drive')"
      ],
      "metadata": {
        "colab": {
          "base_uri": "https://localhost:8080/"
        },
        "id": "t9akA77MrSKP",
        "outputId": "24456cda-ba45-425a-f6ee-bdf4c2f6c191"
      },
      "id": "t9akA77MrSKP",
      "execution_count": 51,
      "outputs": [
        {
          "output_type": "stream",
          "name": "stdout",
          "text": [
            "Drive already mounted at /content/drive; to attempt to forcibly remount, call drive.mount(\"/content/drive\", force_remount=True).\n"
          ]
        }
      ]
    },
    {
      "cell_type": "code",
      "source": [
        "import tensorflow as tf"
      ],
      "metadata": {
        "id": "ScO_HrpbqM5L"
      },
      "id": "ScO_HrpbqM5L",
      "execution_count": 52,
      "outputs": []
    },
    {
      "cell_type": "code",
      "source": [
        "import pandas as pd\n",
        "import numpy as np\n",
        "from string import punctuation\n",
        "from sklearn.model_selection import train_test_split\n",
        "from collections import Counter\n",
        "from IPython.display import Image\n",
        "from IPython.core.display import HTML \n",
        "import matplotlib.pyplot as plt\n",
        "%matplotlib inline"
      ],
      "metadata": {
        "id": "D4KyeTKirL-V"
      },
      "id": "D4KyeTKirL-V",
      "execution_count": 53,
      "outputs": []
    },
    {
      "cell_type": "code",
      "source": [
        "data = pd.read_csv('/content/drive/MyDrive/hse_nlp_PHILATOV/lenta_40k.csv.zip')"
      ],
      "metadata": {
        "id": "ze2vNkvcrO_u"
      },
      "id": "ze2vNkvcrO_u",
      "execution_count": 54,
      "outputs": []
    },
    {
      "cell_type": "code",
      "source": [
        "data.head(5)"
      ],
      "metadata": {
        "colab": {
          "base_uri": "https://localhost:8080/",
          "height": 206
        },
        "id": "OaKuwzsT61zc",
        "outputId": "bc677407-5609-46f4-ba07-c8899e90acd4"
      },
      "id": "OaKuwzsT61zc",
      "execution_count": 55,
      "outputs": [
        {
          "output_type": "execute_result",
          "data": {
            "text/plain": [
              "                                                text           topic\n",
              "0  Россия должна сотрудничать с Всемирным антидоп...           Спорт\n",
              "1  Уголовный суд Кувейта 28 июня освободил под за...             Мир\n",
              "2  Французский журнал Charlie Hebdo опубликовал н...  Интернет и СМИ\n",
              "3  В Петербурге в доме № 53 по улице Лени Голиков...          Россия\n",
              "4  В московском аэропорту \"Домодедово\" задержан г...          Россия"
            ],
            "text/html": [
              "\n",
              "  <div id=\"df-7717de61-2531-4035-9256-e18876272c74\">\n",
              "    <div class=\"colab-df-container\">\n",
              "      <div>\n",
              "<style scoped>\n",
              "    .dataframe tbody tr th:only-of-type {\n",
              "        vertical-align: middle;\n",
              "    }\n",
              "\n",
              "    .dataframe tbody tr th {\n",
              "        vertical-align: top;\n",
              "    }\n",
              "\n",
              "    .dataframe thead th {\n",
              "        text-align: right;\n",
              "    }\n",
              "</style>\n",
              "<table border=\"1\" class=\"dataframe\">\n",
              "  <thead>\n",
              "    <tr style=\"text-align: right;\">\n",
              "      <th></th>\n",
              "      <th>text</th>\n",
              "      <th>topic</th>\n",
              "    </tr>\n",
              "  </thead>\n",
              "  <tbody>\n",
              "    <tr>\n",
              "      <th>0</th>\n",
              "      <td>Россия должна сотрудничать с Всемирным антидоп...</td>\n",
              "      <td>Спорт</td>\n",
              "    </tr>\n",
              "    <tr>\n",
              "      <th>1</th>\n",
              "      <td>Уголовный суд Кувейта 28 июня освободил под за...</td>\n",
              "      <td>Мир</td>\n",
              "    </tr>\n",
              "    <tr>\n",
              "      <th>2</th>\n",
              "      <td>Французский журнал Charlie Hebdo опубликовал н...</td>\n",
              "      <td>Интернет и СМИ</td>\n",
              "    </tr>\n",
              "    <tr>\n",
              "      <th>3</th>\n",
              "      <td>В Петербурге в доме № 53 по улице Лени Голиков...</td>\n",
              "      <td>Россия</td>\n",
              "    </tr>\n",
              "    <tr>\n",
              "      <th>4</th>\n",
              "      <td>В московском аэропорту \"Домодедово\" задержан г...</td>\n",
              "      <td>Россия</td>\n",
              "    </tr>\n",
              "  </tbody>\n",
              "</table>\n",
              "</div>\n",
              "      <button class=\"colab-df-convert\" onclick=\"convertToInteractive('df-7717de61-2531-4035-9256-e18876272c74')\"\n",
              "              title=\"Convert this dataframe to an interactive table.\"\n",
              "              style=\"display:none;\">\n",
              "        \n",
              "  <svg xmlns=\"http://www.w3.org/2000/svg\" height=\"24px\"viewBox=\"0 0 24 24\"\n",
              "       width=\"24px\">\n",
              "    <path d=\"M0 0h24v24H0V0z\" fill=\"none\"/>\n",
              "    <path d=\"M18.56 5.44l.94 2.06.94-2.06 2.06-.94-2.06-.94-.94-2.06-.94 2.06-2.06.94zm-11 1L8.5 8.5l.94-2.06 2.06-.94-2.06-.94L8.5 2.5l-.94 2.06-2.06.94zm10 10l.94 2.06.94-2.06 2.06-.94-2.06-.94-.94-2.06-.94 2.06-2.06.94z\"/><path d=\"M17.41 7.96l-1.37-1.37c-.4-.4-.92-.59-1.43-.59-.52 0-1.04.2-1.43.59L10.3 9.45l-7.72 7.72c-.78.78-.78 2.05 0 2.83L4 21.41c.39.39.9.59 1.41.59.51 0 1.02-.2 1.41-.59l7.78-7.78 2.81-2.81c.8-.78.8-2.07 0-2.86zM5.41 20L4 18.59l7.72-7.72 1.47 1.35L5.41 20z\"/>\n",
              "  </svg>\n",
              "      </button>\n",
              "      \n",
              "  <style>\n",
              "    .colab-df-container {\n",
              "      display:flex;\n",
              "      flex-wrap:wrap;\n",
              "      gap: 12px;\n",
              "    }\n",
              "\n",
              "    .colab-df-convert {\n",
              "      background-color: #E8F0FE;\n",
              "      border: none;\n",
              "      border-radius: 50%;\n",
              "      cursor: pointer;\n",
              "      display: none;\n",
              "      fill: #1967D2;\n",
              "      height: 32px;\n",
              "      padding: 0 0 0 0;\n",
              "      width: 32px;\n",
              "    }\n",
              "\n",
              "    .colab-df-convert:hover {\n",
              "      background-color: #E2EBFA;\n",
              "      box-shadow: 0px 1px 2px rgba(60, 64, 67, 0.3), 0px 1px 3px 1px rgba(60, 64, 67, 0.15);\n",
              "      fill: #174EA6;\n",
              "    }\n",
              "\n",
              "    [theme=dark] .colab-df-convert {\n",
              "      background-color: #3B4455;\n",
              "      fill: #D2E3FC;\n",
              "    }\n",
              "\n",
              "    [theme=dark] .colab-df-convert:hover {\n",
              "      background-color: #434B5C;\n",
              "      box-shadow: 0px 1px 3px 1px rgba(0, 0, 0, 0.15);\n",
              "      filter: drop-shadow(0px 1px 2px rgba(0, 0, 0, 0.3));\n",
              "      fill: #FFFFFF;\n",
              "    }\n",
              "  </style>\n",
              "\n",
              "      <script>\n",
              "        const buttonEl =\n",
              "          document.querySelector('#df-7717de61-2531-4035-9256-e18876272c74 button.colab-df-convert');\n",
              "        buttonEl.style.display =\n",
              "          google.colab.kernel.accessAllowed ? 'block' : 'none';\n",
              "\n",
              "        async function convertToInteractive(key) {\n",
              "          const element = document.querySelector('#df-7717de61-2531-4035-9256-e18876272c74');\n",
              "          const dataTable =\n",
              "            await google.colab.kernel.invokeFunction('convertToInteractive',\n",
              "                                                     [key], {});\n",
              "          if (!dataTable) return;\n",
              "\n",
              "          const docLinkHtml = 'Like what you see? Visit the ' +\n",
              "            '<a target=\"_blank\" href=https://colab.research.google.com/notebooks/data_table.ipynb>data table notebook</a>'\n",
              "            + ' to learn more about interactive tables.';\n",
              "          element.innerHTML = '';\n",
              "          dataTable['output_type'] = 'display_data';\n",
              "          await google.colab.output.renderOutput(dataTable, element);\n",
              "          const docLink = document.createElement('div');\n",
              "          docLink.innerHTML = docLinkHtml;\n",
              "          element.appendChild(docLink);\n",
              "        }\n",
              "      </script>\n",
              "    </div>\n",
              "  </div>\n",
              "  "
            ]
          },
          "metadata": {},
          "execution_count": 55
        }
      ]
    },
    {
      "cell_type": "code",
      "source": [
        "def preprocess(text):\n",
        "    tokens = text.lower().split()\n",
        "    tokens = [token.strip(punctuation) for token in tokens]\n",
        "    return tokens"
      ],
      "metadata": {
        "id": "zfyGc4R763KS"
      },
      "id": "zfyGc4R763KS",
      "execution_count": 56,
      "outputs": []
    },
    {
      "cell_type": "code",
      "execution_count": 57,
      "metadata": {
        "id": "hr_w1u51ywjJ"
      },
      "outputs": [],
      "source": [
        "from tensorflow.keras import backend as K\n",
        "def f1(y_true, y_pred):\n",
        "    def recall(y_true, y_pred):\n",
        "        \"\"\"Recall metric.\n",
        "\n",
        "        Only computes a batch-wise average of recall.\n",
        "\n",
        "        Computes the recall, a metric for multi-label classification of\n",
        "        how many relevant items are selected.\n",
        "        \"\"\"\n",
        "        true_positives = K.sum(K.round(K.clip(y_true * y_pred, 0, 1)))\n",
        "        possible_positives = K.sum(K.round(K.clip(y_true, 0, 1)))\n",
        "        recall = true_positives / (possible_positives + K.epsilon())\n",
        "        return recall\n",
        "\n",
        "    def precision(y_true, y_pred):\n",
        "        \"\"\"Precision metric.\n",
        "\n",
        "        Only computes a batch-wise average of precision.\n",
        "\n",
        "        Computes the precision, a metric for multi-label classification of\n",
        "        how many selected items are relevant.\n",
        "        \"\"\"\n",
        "        true_positives = K.sum(K.round(K.clip(y_true * y_pred, 0, 1)))\n",
        "        predicted_positives = K.sum(K.round(K.clip(y_pred, 0, 1)))\n",
        "        precision = true_positives / (predicted_positives + K.epsilon())\n",
        "        return precision\n",
        "    precision = precision(y_true, y_pred)\n",
        "    recall = recall(y_true, y_pred)\n",
        "    return 2*((precision*recall)/(precision+recall+K.epsilon()))"
      ],
      "id": "hr_w1u51ywjJ"
    },
    {
      "cell_type": "code",
      "execution_count": 58,
      "metadata": {
        "id": "TOF82vfGywjN"
      },
      "outputs": [],
      "source": [
        "# словарь\n",
        "vocab = Counter()\n",
        "\n",
        "for text in data.text:\n",
        "    vocab.update(preprocess(text))"
      ],
      "id": "TOF82vfGywjN"
    },
    {
      "cell_type": "code",
      "execution_count": 59,
      "metadata": {
        "id": "GYRhrgSgywjO",
        "outputId": "8256e384-e476-47a8-fd72-c5fb6e2cb84a",
        "colab": {
          "base_uri": "https://localhost:8080/"
        }
      },
      "outputs": [
        {
          "output_type": "execute_result",
          "data": {
            "text/plain": [
              "354611"
            ]
          },
          "metadata": {},
          "execution_count": 59
        }
      ],
      "source": [
        "len(vocab)"
      ],
      "id": "GYRhrgSgywjO"
    },
    {
      "cell_type": "code",
      "execution_count": 60,
      "metadata": {
        "id": "e26s-ta1ywjP"
      },
      "outputs": [],
      "source": [
        "# отфильтрованный словарь\n",
        "filtered_vocab = set()\n",
        "\n",
        "for word in vocab:\n",
        "    if vocab[word] > 30:\n",
        "        filtered_vocab.add(word)"
      ],
      "id": "e26s-ta1ywjP"
    },
    {
      "cell_type": "code",
      "execution_count": 61,
      "metadata": {
        "id": "dKzw0RdYywjR",
        "outputId": "2346ab2b-27f1-49b5-8006-defe22a07c12",
        "colab": {
          "base_uri": "https://localhost:8080/"
        }
      },
      "outputs": [
        {
          "output_type": "execute_result",
          "data": {
            "text/plain": [
              "24091"
            ]
          },
          "metadata": {},
          "execution_count": 61
        }
      ],
      "source": [
        "len(filtered_vocab)"
      ],
      "id": "dKzw0RdYywjR"
    },
    {
      "cell_type": "code",
      "execution_count": 62,
      "metadata": {
        "id": "PXOix4gsywjT"
      },
      "outputs": [],
      "source": [
        "# индексируем слова\n",
        "word2id = {'PAD':0, 'UNK':1}\n",
        "\n",
        "for word in filtered_vocab:\n",
        "    word2id[word] = len(word2id)"
      ],
      "id": "PXOix4gsywjT"
    },
    {
      "cell_type": "code",
      "execution_count": 63,
      "metadata": {
        "id": "OzwMhmR2ywjV"
      },
      "outputs": [],
      "source": [
        "id2word = {i:word for word, i in word2id.items()}"
      ],
      "id": "OzwMhmR2ywjV"
    },
    {
      "cell_type": "code",
      "execution_count": 64,
      "metadata": {
        "id": "pnmlGefCywjW"
      },
      "outputs": [],
      "source": [
        "# переводим тексты в последовательности индексов\n",
        "X = []\n",
        "\n",
        "for text in data.text:\n",
        "    tokens = preprocess(text)\n",
        "    ids = [word2id.get(token, 1) for token in tokens]\n",
        "    X.append(ids)"
      ],
      "id": "pnmlGefCywjW"
    },
    {
      "cell_type": "code",
      "execution_count": 65,
      "metadata": {
        "id": "fVIO-MUVywjX"
      },
      "outputs": [],
      "source": [
        "MAX_LEN = max(len(x) for x in X)"
      ],
      "id": "fVIO-MUVywjX"
    },
    {
      "cell_type": "code",
      "execution_count": 66,
      "metadata": {
        "id": "3elhi26hywjZ"
      },
      "outputs": [],
      "source": [
        "MEAN_LEN = np.median([len(x) for x in X])"
      ],
      "id": "3elhi26hywjZ"
    },
    {
      "cell_type": "code",
      "execution_count": 67,
      "metadata": {
        "id": "eHsC5BuPywjZ",
        "outputId": "74a799d6-4d6f-4868-b410-fdb36477d0d1",
        "colab": {
          "base_uri": "https://localhost:8080/"
        }
      },
      "outputs": [
        {
          "output_type": "execute_result",
          "data": {
            "text/plain": [
              "(1748, 170.0)"
            ]
          },
          "metadata": {},
          "execution_count": 67
        }
      ],
      "source": [
        "MAX_LEN, MEAN_LEN"
      ],
      "id": "eHsC5BuPywjZ"
    },
    {
      "cell_type": "code",
      "execution_count": 68,
      "metadata": {
        "id": "REdGCxHpywja"
      },
      "outputs": [],
      "source": [
        "MAX_LEN = int(MEAN_LEN + 30)"
      ],
      "id": "REdGCxHpywja"
    },
    {
      "cell_type": "code",
      "execution_count": 69,
      "metadata": {
        "id": "CidQXz1Zywjb"
      },
      "outputs": [],
      "source": [
        "# паддинг\n",
        "X = tf.keras.preprocessing.sequence.pad_sequences(X, maxlen=MAX_LEN)"
      ],
      "id": "CidQXz1Zywjb"
    },
    {
      "cell_type": "code",
      "execution_count": 70,
      "metadata": {
        "id": "SBdG5BSMywjc",
        "outputId": "9b00511b-7b83-42f1-a858-be90d9b99bc3",
        "colab": {
          "base_uri": "https://localhost:8080/"
        }
      },
      "outputs": [
        {
          "output_type": "execute_result",
          "data": {
            "text/plain": [
              "(44356, 200)"
            ]
          },
          "metadata": {},
          "execution_count": 70
        }
      ],
      "source": [
        "X.shape"
      ],
      "id": "SBdG5BSMywjc"
    },
    {
      "cell_type": "code",
      "execution_count": 71,
      "metadata": {
        "id": "VSXRrw2Nywjd"
      },
      "outputs": [],
      "source": [
        "id2label = {i:label for i, label in enumerate(set(data.topic.values))}\n",
        "label2id = {l:i for i, l in id2label.items()}"
      ],
      "id": "VSXRrw2Nywjd"
    },
    {
      "cell_type": "code",
      "execution_count": 72,
      "metadata": {
        "id": "vwgzARroywje"
      },
      "outputs": [],
      "source": [
        "y = tf.keras.utils.to_categorical([label2id[label] for label in data.topic.values])"
      ],
      "id": "vwgzARroywje"
    },
    {
      "cell_type": "code",
      "execution_count": 73,
      "metadata": {
        "id": "tkpgEmpTywjf",
        "outputId": "233edac4-8800-4db8-b023-c4cf408b3f9b",
        "colab": {
          "base_uri": "https://localhost:8080/"
        }
      },
      "outputs": [
        {
          "output_type": "execute_result",
          "data": {
            "text/plain": [
              "19"
            ]
          },
          "metadata": {},
          "execution_count": 73
        }
      ],
      "source": [
        "len(label2id)"
      ],
      "id": "tkpgEmpTywjf"
    },
    {
      "cell_type": "code",
      "execution_count": 74,
      "metadata": {
        "id": "Y7ekTDGjywjh"
      },
      "outputs": [],
      "source": [
        "X_train, X_valid, y_train, y_valid = train_test_split(X, y, test_size=0.05, stratify=y)"
      ],
      "id": "Y7ekTDGjywjh"
    },
    {
      "cell_type": "markdown",
      "id": "3b4bd487",
      "metadata": {
        "id": "3b4bd487"
      },
      "source": [
        "## Задание 1 (4 балла) "
      ]
    },
    {
      "cell_type": "code",
      "source": [
        "data.dropna(subset=['topic', 'text'], inplace=True)"
      ],
      "metadata": {
        "id": "M9__f0o5t9CZ"
      },
      "id": "M9__f0o5t9CZ",
      "execution_count": 75,
      "outputs": []
    },
    {
      "cell_type": "markdown",
      "id": "bf4c4f87",
      "metadata": {
        "id": "bf4c4f87"
      },
      "source": [
        "Обучите 8 моделей для задачи классификации текста (датасет - lenta_40k ). А именно:  \n",
        "1) модель с 1 GRU слоем;   \n",
        "2) модель с 1 LSTM слоем    \n",
        "3) модель с 1 GRU и 1 LSTM слоем  \n",
        "4) модель с 1 BIGRU и 2 LSTM слоями  \n",
        "5) модель с 5 GRU слоями и 3 LSTM слоями  \n",
        "6) модель 1 BIGRU и 1 BILSTM слоями, причем так чтобы модели для forward и backward прохода отличались   \n",
        "7) модель, где последовательно идут слои: LSTM, GRU, BILSTM, BIGRU, GRU, LSTM  \n",
        "\n",
        "\n",
        "\n",
        "Параметр units и размер эмбединга можете задать любой. Оцените качество каждой модели и определите победителя."
      ]
    },
    {
      "cell_type": "markdown",
      "source": [
        "**Один GRU слой**"
      ],
      "metadata": {
        "id": "h8DVHIGS-E0M"
      },
      "id": "h8DVHIGS-E0M"
    },
    {
      "cell_type": "code",
      "execution_count": 76,
      "id": "83db6635",
      "metadata": {
        "id": "83db6635"
      },
      "outputs": [],
      "source": [
        "inputs = tf.keras.layers.Input(shape=(MAX_LEN,))\n",
        "embeddings = tf.keras.layers.Embedding(input_dim=len(word2id), output_dim=30)(inputs, )\n",
        "\n",
        "rnn = tf.keras.layers.GRU(128, return_sequences=False)(embeddings)\n",
        "\n",
        "outputs = tf.keras.layers.Dense(len(label2id), activation='softmax')(rnn)\n",
        "\n",
        "model = tf.keras.Model(inputs=inputs, outputs=outputs)\n",
        "optimizer = tf.keras.optimizers.Adam(learning_rate=0.001)\n",
        "model.compile(optimizer=optimizer,\n",
        "              loss='categorical_crossentropy',\n",
        "              metrics=[f1, tf.keras.metrics.RecallAtPrecision(0.8, name='rec@prec')])"
      ]
    },
    {
      "cell_type": "code",
      "execution_count": 77,
      "id": "50362f6e",
      "metadata": {
        "id": "50362f6e",
        "colab": {
          "base_uri": "https://localhost:8080/"
        },
        "outputId": "06fbcc45-819f-4311-c560-5e5750c0c91c"
      },
      "outputs": [
        {
          "output_type": "stream",
          "name": "stdout",
          "text": [
            "Epoch 1/20\n",
            "43/43 [==============================] - 37s 63ms/step - loss: 2.5736 - f1: 0.0049 - rec@prec: 0.0000e+00 - val_loss: 2.3269 - val_f1: 0.0000e+00 - val_rec@prec: 0.0023\n",
            "Epoch 2/20\n",
            "43/43 [==============================] - 2s 48ms/step - loss: 2.2833 - f1: 0.0000e+00 - rec@prec: 0.0000e+00 - val_loss: 2.2415 - val_f1: 0.0000e+00 - val_rec@prec: 0.0023\n",
            "Epoch 3/20\n",
            "43/43 [==============================] - 2s 48ms/step - loss: 2.1186 - f1: 0.0044 - rec@prec: 5.9329e-04 - val_loss: 2.0733 - val_f1: 0.0375 - val_rec@prec: 0.0023\n",
            "Epoch 4/20\n",
            "43/43 [==============================] - 2s 49ms/step - loss: 1.8513 - f1: 0.0736 - rec@prec: 0.0259 - val_loss: 2.0241 - val_f1: 0.1554 - val_rec@prec: 0.0036\n",
            "Epoch 5/20\n",
            "43/43 [==============================] - 2s 49ms/step - loss: 1.6892 - f1: 0.2268 - rec@prec: 0.1061 - val_loss: 1.7442 - val_f1: 0.2290 - val_rec@prec: 0.0383\n",
            "Epoch 6/20\n",
            "43/43 [==============================] - 2s 49ms/step - loss: 1.4885 - f1: 0.3589 - rec@prec: 0.2130 - val_loss: 1.6595 - val_f1: 0.2985 - val_rec@prec: 0.1204\n",
            "Epoch 7/20\n",
            "43/43 [==============================] - 2s 51ms/step - loss: 1.3159 - f1: 0.4599 - rec@prec: 0.3197 - val_loss: 1.6089 - val_f1: 0.3720 - val_rec@prec: 0.1429\n",
            "Epoch 8/20\n",
            "43/43 [==============================] - 2s 52ms/step - loss: 1.1519 - f1: 0.5539 - rec@prec: 0.4234 - val_loss: 1.5136 - val_f1: 0.4447 - val_rec@prec: 0.1988\n",
            "Epoch 9/20\n",
            "43/43 [==============================] - 2s 49ms/step - loss: 1.0189 - f1: 0.6068 - rec@prec: 0.5022 - val_loss: 1.5177 - val_f1: 0.4706 - val_rec@prec: 0.1993\n",
            "Epoch 10/20\n",
            "43/43 [==============================] - 2s 49ms/step - loss: 0.9065 - f1: 0.6579 - rec@prec: 0.5856 - val_loss: 1.5201 - val_f1: 0.4950 - val_rec@prec: 0.2628\n",
            "Epoch 11/20\n",
            "43/43 [==============================] - 2s 49ms/step - loss: 0.8136 - f1: 0.7007 - rec@prec: 0.6537 - val_loss: 1.5463 - val_f1: 0.5196 - val_rec@prec: 0.2588\n",
            "Epoch 12/20\n",
            "43/43 [==============================] - 2s 49ms/step - loss: 0.7219 - f1: 0.7452 - rec@prec: 0.7325 - val_loss: 1.5457 - val_f1: 0.5496 - val_rec@prec: 0.3246\n",
            "Epoch 13/20\n",
            "43/43 [==============================] - 2s 51ms/step - loss: 0.6212 - f1: 0.7985 - rec@prec: 0.8113 - val_loss: 1.5116 - val_f1: 0.6034 - val_rec@prec: 0.3895\n",
            "Epoch 14/20\n",
            "43/43 [==============================] - 2s 49ms/step - loss: 0.5182 - f1: 0.8391 - rec@prec: 0.8750 - val_loss: 1.5982 - val_f1: 0.5849 - val_rec@prec: 0.3783\n",
            "Epoch 15/20\n",
            "43/43 [==============================] - 2s 49ms/step - loss: 0.4620 - f1: 0.8615 - rec@prec: 0.9038 - val_loss: 1.5846 - val_f1: 0.6034 - val_rec@prec: 0.4261\n",
            "Epoch 16/20\n",
            "43/43 [==============================] - 2s 49ms/step - loss: 0.3871 - f1: 0.8890 - rec@prec: 0.9341 - val_loss: 1.6628 - val_f1: 0.5996 - val_rec@prec: 0.3864\n",
            "Epoch 17/20\n",
            "43/43 [==============================] - 2s 49ms/step - loss: 0.3444 - f1: 0.9044 - rec@prec: 0.9478 - val_loss: 1.6853 - val_f1: 0.6315 - val_rec@prec: 0.4396\n",
            "Epoch 18/20\n",
            "43/43 [==============================] - 2s 49ms/step - loss: 0.3002 - f1: 0.9200 - rec@prec: 0.9620 - val_loss: 1.7255 - val_f1: 0.6228 - val_rec@prec: 0.4432\n",
            "Epoch 19/20\n",
            "43/43 [==============================] - 2s 49ms/step - loss: 0.2454 - f1: 0.9403 - rec@prec: 0.9727 - val_loss: 1.8120 - val_f1: 0.6228 - val_rec@prec: 0.4351\n",
            "Epoch 20/20\n",
            "43/43 [==============================] - 2s 50ms/step - loss: 0.2058 - f1: 0.9523 - rec@prec: 0.9801 - val_loss: 1.9038 - val_f1: 0.6339 - val_rec@prec: 0.4166\n"
          ]
        },
        {
          "output_type": "execute_result",
          "data": {
            "text/plain": [
              "<keras.callbacks.History at 0x7f20180ea050>"
            ]
          },
          "metadata": {},
          "execution_count": 77
        }
      ],
      "source": [
        "model.fit(X_train, y_train, \n",
        "          validation_data=(X_valid, y_valid),\n",
        "          batch_size=1000,\n",
        "         epochs=20)"
      ]
    },
    {
      "cell_type": "code",
      "execution_count": 78,
      "id": "b6676dab",
      "metadata": {
        "id": "b6676dab",
        "colab": {
          "base_uri": "https://localhost:8080/",
          "height": 313
        },
        "outputId": "dc7f311d-30ff-4828-863f-5edf418b7dd1"
      },
      "outputs": [
        {
          "output_type": "stream",
          "name": "stdout",
          "text": [
            "dict_keys(['loss', 'f1', 'rec@prec', 'val_loss', 'val_f1', 'val_rec@prec'])\n"
          ]
        },
        {
          "output_type": "display_data",
          "data": {
            "text/plain": [
              "<Figure size 432x288 with 1 Axes>"
            ],
            "image/png": "[encoded data removed]"
          },
          "metadata": {
            "needs_background": "light"
          }
        }
      ],
      "source": [
        "print(model.history.history.keys())\n",
        "# summarize history for accuracy\n",
        "plt.plot(model.history.history['rec@prec'])\n",
        "plt.plot(model.history.history['val_rec@prec'])\n",
        "plt.title('model f1')\n",
        "plt.ylabel('f1')\n",
        "plt.xlabel('epoch')\n",
        "plt.legend(['train', 'val'], loc='upper left')\n",
        "plt.show()"
      ]
    },
    {
      "cell_type": "markdown",
      "source": [
        "**Один LSTM слой**"
      ],
      "metadata": {
        "id": "wtFhrj7i-Cvk"
      },
      "id": "wtFhrj7i-Cvk"
    },
    {
      "cell_type": "code",
      "execution_count": 79,
      "metadata": {
        "id": "y8sIjvKT-Mtm"
      },
      "outputs": [],
      "source": [
        "inputs = tf.keras.layers.Input(shape=(MAX_LEN,))\n",
        "embeddings = tf.keras.layers.Embedding(input_dim=len(word2id), output_dim=30)(inputs, )\n",
        "\n",
        "rnn1 = tf.keras.layers.LSTM(128, return_sequences=False)(embeddings)\n",
        "\n",
        "outputs = tf.keras.layers.Dense(len(label2id), activation='softmax')(rnn1)\n",
        "\n",
        "model = tf.keras.Model(inputs=inputs, outputs=outputs)\n",
        "optimizer = tf.keras.optimizers.Adam(learning_rate=0.001)\n",
        "model.compile(optimizer=optimizer,\n",
        "              loss='categorical_crossentropy',\n",
        "              metrics=[f1, tf.keras.metrics.RecallAtPrecision(0.8, name='rec@prec')])"
      ],
      "id": "y8sIjvKT-Mtm"
    },
    {
      "cell_type": "code",
      "execution_count": 80,
      "metadata": {
        "colab": {
          "base_uri": "https://localhost:8080/"
        },
        "outputId": "3207422d-38ea-4115-d78c-b4d92b91f017",
        "id": "JnaBwvmv-Mtq"
      },
      "outputs": [
        {
          "output_type": "stream",
          "name": "stdout",
          "text": [
            "Epoch 1/20\n",
            "43/43 [==============================] - 5s 70ms/step - loss: 2.4983 - f1: 0.0000e+00 - rec@prec: 0.0000e+00 - val_loss: 2.3216 - val_f1: 0.0000e+00 - val_rec@prec: 0.0000e+00\n",
            "Epoch 2/20\n",
            "43/43 [==============================] - 2s 56ms/step - loss: 2.3141 - f1: 0.0000e+00 - rec@prec: 1.1866e-04 - val_loss: 2.2993 - val_f1: 0.0000e+00 - val_rec@prec: 4.5086e-04\n",
            "Epoch 3/20\n",
            "43/43 [==============================] - 2s 57ms/step - loss: 2.2429 - f1: 0.0000e+00 - rec@prec: 0.0000e+00 - val_loss: 2.0754 - val_f1: 0.0000e+00 - val_rec@prec: 0.0000e+00\n",
            "Epoch 4/20\n",
            "43/43 [==============================] - 2s 57ms/step - loss: 1.9334 - f1: 0.0146 - rec@prec: 0.0252 - val_loss: 1.8250 - val_f1: 0.0973 - val_rec@prec: 0.0757\n",
            "Epoch 5/20\n",
            "43/43 [==============================] - 2s 57ms/step - loss: 1.6312 - f1: 0.2436 - rec@prec: 0.1358 - val_loss: 1.6816 - val_f1: 0.3309 - val_rec@prec: 0.1262\n",
            "Epoch 6/20\n",
            "43/43 [==============================] - 2s 57ms/step - loss: 1.4084 - f1: 0.4539 - rec@prec: 0.2585 - val_loss: 1.4455 - val_f1: 0.4363 - val_rec@prec: 0.2385\n",
            "Epoch 7/20\n",
            "43/43 [==============================] - 2s 57ms/step - loss: 1.2903 - f1: 0.5322 - rec@prec: 0.3501 - val_loss: 1.3984 - val_f1: 0.4994 - val_rec@prec: 0.3192\n",
            "Epoch 8/20\n",
            "43/43 [==============================] - 2s 57ms/step - loss: 1.1066 - f1: 0.6134 - rec@prec: 0.4852 - val_loss: 1.2989 - val_f1: 0.5808 - val_rec@prec: 0.3674\n",
            "Epoch 9/20\n",
            "43/43 [==============================] - 2s 57ms/step - loss: 0.9353 - f1: 0.7049 - rec@prec: 0.6492 - val_loss: 1.2526 - val_f1: 0.6098 - val_rec@prec: 0.4333\n",
            "Epoch 10/20\n",
            "43/43 [==============================] - 2s 57ms/step - loss: 0.8087 - f1: 0.7541 - rec@prec: 0.7371 - val_loss: 1.1531 - val_f1: 0.6590 - val_rec@prec: 0.5537\n",
            "Epoch 11/20\n",
            "43/43 [==============================] - 2s 57ms/step - loss: 0.6857 - f1: 0.8043 - rec@prec: 0.8135 - val_loss: 1.1329 - val_f1: 0.6815 - val_rec@prec: 0.5821\n",
            "Epoch 12/20\n",
            "43/43 [==============================] - 2s 57ms/step - loss: 0.6130 - f1: 0.8252 - rec@prec: 0.8504 - val_loss: 1.1124 - val_f1: 0.6986 - val_rec@prec: 0.6050\n",
            "Epoch 13/20\n",
            "43/43 [==============================] - 2s 57ms/step - loss: 0.5361 - f1: 0.8511 - rec@prec: 0.8815 - val_loss: 1.1461 - val_f1: 0.7006 - val_rec@prec: 0.6010\n",
            "Epoch 14/20\n",
            "43/43 [==============================] - 2s 58ms/step - loss: 0.4685 - f1: 0.8733 - rec@prec: 0.9074 - val_loss: 1.1291 - val_f1: 0.7067 - val_rec@prec: 0.6078\n",
            "Epoch 15/20\n",
            "43/43 [==============================] - 2s 58ms/step - loss: 0.4175 - f1: 0.8884 - rec@prec: 0.9256 - val_loss: 1.1281 - val_f1: 0.7023 - val_rec@prec: 0.6199\n",
            "Epoch 16/20\n",
            "43/43 [==============================] - 2s 58ms/step - loss: 0.3662 - f1: 0.9059 - rec@prec: 0.9409 - val_loss: 1.1164 - val_f1: 0.7160 - val_rec@prec: 0.6425\n",
            "Epoch 17/20\n",
            "43/43 [==============================] - 2s 58ms/step - loss: 0.3077 - f1: 0.9238 - rec@prec: 0.9568 - val_loss: 1.1930 - val_f1: 0.7098 - val_rec@prec: 0.6366\n",
            "Epoch 18/20\n",
            "43/43 [==============================] - 2s 58ms/step - loss: 0.3373 - f1: 0.9097 - rec@prec: 0.9494 - val_loss: 1.1878 - val_f1: 0.7141 - val_rec@prec: 0.6389\n",
            "Epoch 19/20\n",
            "43/43 [==============================] - 2s 58ms/step - loss: 0.2875 - f1: 0.9274 - rec@prec: 0.9620 - val_loss: 1.2282 - val_f1: 0.7118 - val_rec@prec: 0.6271\n",
            "Epoch 20/20\n",
            "43/43 [==============================] - 2s 58ms/step - loss: 0.2472 - f1: 0.9396 - rec@prec: 0.9696 - val_loss: 1.2491 - val_f1: 0.7039 - val_rec@prec: 0.6064\n"
          ]
        },
        {
          "output_type": "execute_result",
          "data": {
            "text/plain": [
              "<keras.callbacks.History at 0x7f1f40068610>"
            ]
          },
          "metadata": {},
          "execution_count": 80
        }
      ],
      "source": [
        "model.fit(X_train, y_train, \n",
        "          validation_data=(X_valid, y_valid),\n",
        "          batch_size=1000,\n",
        "         epochs=20)"
      ],
      "id": "JnaBwvmv-Mtq"
    },
    {
      "cell_type": "code",
      "execution_count": 81,
      "metadata": {
        "colab": {
          "base_uri": "https://localhost:8080/",
          "height": 313
        },
        "outputId": "33295409-755a-4fcd-efb5-fff76217ba9b",
        "id": "rCs5oyv9-Mtu"
      },
      "outputs": [
        {
          "output_type": "stream",
          "name": "stdout",
          "text": [
            "dict_keys(['loss', 'f1', 'rec@prec', 'val_loss', 'val_f1', 'val_rec@prec'])\n"
          ]
        },
        {
          "output_type": "display_data",
          "data": {
            "text/plain": [
              "<Figure size 432x288 with 1 Axes>"
            ],
            "image/png": "[encoded data removed]"
          },
          "metadata": {
            "needs_background": "light"
          }
        }
      ],
      "source": [
        "print(model.history.history.keys())\n",
        "# summarize history for accuracy\n",
        "plt.plot(model.history.history['rec@prec'])\n",
        "plt.plot(model.history.history['val_rec@prec'])\n",
        "plt.title('model f1')\n",
        "plt.ylabel('f1')\n",
        "plt.xlabel('epoch')\n",
        "plt.legend(['train', 'val'], loc='upper left')\n",
        "plt.show()"
      ],
      "id": "rCs5oyv9-Mtu"
    },
    {
      "cell_type": "markdown",
      "source": [
        "**Один GRU слой и один LSTM слой**"
      ],
      "metadata": {
        "id": "6o2ug3u2_KeK"
      },
      "id": "6o2ug3u2_KeK"
    },
    {
      "cell_type": "code",
      "execution_count": 82,
      "metadata": {
        "id": "J5_RFebx_KeO"
      },
      "outputs": [],
      "source": [
        "inputs = tf.keras.layers.Input(shape=(MAX_LEN,))\n",
        "embeddings = tf.keras.layers.Embedding(input_dim=len(word2id), output_dim=30)(inputs, )\n",
        "\n",
        "gru0 = tf.keras.layers.GRU(128, return_sequences=True)(embeddings)\n",
        "lstm0 = tf.keras.layers.LSTM(128, return_sequences=False)(gru0)\n",
        "\n",
        "outputs = tf.keras.layers.Dense(len(label2id), activation='softmax')(lstm0)\n",
        "\n",
        "model = tf.keras.Model(inputs=inputs, outputs=outputs)\n",
        "optimizer = tf.keras.optimizers.Adam(learning_rate=0.001)\n",
        "model.compile(optimizer=optimizer,\n",
        "              loss='categorical_crossentropy',\n",
        "              metrics=[f1, tf.keras.metrics.RecallAtPrecision(0.8, name='rec@prec')])"
      ],
      "id": "J5_RFebx_KeO"
    },
    {
      "cell_type": "code",
      "execution_count": 83,
      "metadata": {
        "colab": {
          "base_uri": "https://localhost:8080/"
        },
        "outputId": "5a4387ae-bfb3-4a21-b061-7d2fc6994a1a",
        "id": "_BQni1mR_KeR"
      },
      "outputs": [
        {
          "output_type": "stream",
          "name": "stdout",
          "text": [
            "Epoch 1/20\n",
            "43/43 [==============================] - 8s 130ms/step - loss: 2.4575 - f1: 0.0000e+00 - rec@prec: 0.0000e+00 - val_loss: 2.3030 - val_f1: 0.0000e+00 - val_rec@prec: 0.0000e+00\n",
            "Epoch 2/20\n",
            "43/43 [==============================] - 5s 113ms/step - loss: 2.1129 - f1: 0.0022 - rec@prec: 0.0010 - val_loss: 1.8967 - val_f1: 0.0384 - val_rec@prec: 0.0230\n",
            "Epoch 3/20\n",
            "43/43 [==============================] - 5s 113ms/step - loss: 1.7463 - f1: 0.1144 - rec@prec: 0.0603 - val_loss: 1.7508 - val_f1: 0.1228 - val_rec@prec: 0.0739\n",
            "Epoch 4/20\n",
            "43/43 [==============================] - 5s 113ms/step - loss: 1.6238 - f1: 0.1761 - rec@prec: 0.1005 - val_loss: 1.6856 - val_f1: 0.1932 - val_rec@prec: 0.1204\n",
            "Epoch 5/20\n",
            "43/43 [==============================] - 5s 114ms/step - loss: 1.4573 - f1: 0.3091 - rec@prec: 0.1820 - val_loss: 1.6327 - val_f1: 0.2639 - val_rec@prec: 0.1443\n",
            "Epoch 6/20\n",
            "43/43 [==============================] - 5s 114ms/step - loss: 1.3292 - f1: 0.4119 - rec@prec: 0.2451 - val_loss: 1.4745 - val_f1: 0.3772 - val_rec@prec: 0.2106\n",
            "Epoch 7/20\n",
            "43/43 [==============================] - 5s 114ms/step - loss: 1.1958 - f1: 0.5050 - rec@prec: 0.3515 - val_loss: 1.4222 - val_f1: 0.4828 - val_rec@prec: 0.2782\n",
            "Epoch 8/20\n",
            "43/43 [==============================] - 5s 114ms/step - loss: 1.0900 - f1: 0.5920 - rec@prec: 0.4510 - val_loss: 1.4084 - val_f1: 0.5399 - val_rec@prec: 0.3201\n",
            "Epoch 9/20\n",
            "43/43 [==============================] - 5s 115ms/step - loss: 0.9819 - f1: 0.6724 - rec@prec: 0.5683 - val_loss: 1.3453 - val_f1: 0.5862 - val_rec@prec: 0.3683\n",
            "Epoch 10/20\n",
            "43/43 [==============================] - 5s 115ms/step - loss: 0.8949 - f1: 0.7097 - rec@prec: 0.6458 - val_loss: 1.3784 - val_f1: 0.5717 - val_rec@prec: 0.3634\n",
            "Epoch 11/20\n",
            "43/43 [==============================] - 5s 115ms/step - loss: 0.8441 - f1: 0.7326 - rec@prec: 0.6880 - val_loss: 1.3218 - val_f1: 0.6070 - val_rec@prec: 0.4409\n",
            "Epoch 12/20\n",
            "43/43 [==============================] - 5s 115ms/step - loss: 0.7535 - f1: 0.7699 - rec@prec: 0.7568 - val_loss: 1.3423 - val_f1: 0.6210 - val_rec@prec: 0.4193\n",
            "Epoch 13/20\n",
            "43/43 [==============================] - 5s 116ms/step - loss: 0.6840 - f1: 0.7993 - rec@prec: 0.8060 - val_loss: 1.3717 - val_f1: 0.6122 - val_rec@prec: 0.4364\n",
            "Epoch 14/20\n",
            "43/43 [==============================] - 5s 116ms/step - loss: 0.6283 - f1: 0.8200 - rec@prec: 0.8374 - val_loss: 1.4202 - val_f1: 0.6166 - val_rec@prec: 0.4270\n",
            "Epoch 15/20\n",
            "43/43 [==============================] - 5s 116ms/step - loss: 0.5940 - f1: 0.8303 - rec@prec: 0.8543 - val_loss: 1.4354 - val_f1: 0.6188 - val_rec@prec: 0.4274\n",
            "Epoch 16/20\n",
            "43/43 [==============================] - 5s 116ms/step - loss: 0.5677 - f1: 0.8408 - rec@prec: 0.8698 - val_loss: 1.4506 - val_f1: 0.6209 - val_rec@prec: 0.4274\n",
            "Epoch 17/20\n",
            "43/43 [==============================] - 5s 117ms/step - loss: 0.5207 - f1: 0.8570 - rec@prec: 0.8889 - val_loss: 1.4911 - val_f1: 0.6233 - val_rec@prec: 0.4116\n",
            "Epoch 18/20\n",
            "43/43 [==============================] - 5s 116ms/step - loss: 0.4972 - f1: 0.8658 - rec@prec: 0.8988 - val_loss: 1.5871 - val_f1: 0.6131 - val_rec@prec: 0.3733\n",
            "Epoch 19/20\n",
            "43/43 [==============================] - 5s 116ms/step - loss: 0.4647 - f1: 0.8763 - rec@prec: 0.9118 - val_loss: 1.5534 - val_f1: 0.6154 - val_rec@prec: 0.4373\n",
            "Epoch 20/20\n",
            "43/43 [==============================] - 5s 116ms/step - loss: 0.4395 - f1: 0.8850 - rec@prec: 0.9196 - val_loss: 1.5941 - val_f1: 0.6274 - val_rec@prec: 0.3986\n"
          ]
        },
        {
          "output_type": "execute_result",
          "data": {
            "text/plain": [
              "<keras.callbacks.History at 0x7f1f403830d0>"
            ]
          },
          "metadata": {},
          "execution_count": 83
        }
      ],
      "source": [
        "model.fit(X_train, y_train, \n",
        "          validation_data=(X_valid, y_valid),\n",
        "          batch_size=1000,\n",
        "         epochs=20)"
      ],
      "id": "_BQni1mR_KeR"
    },
    {
      "cell_type": "code",
      "execution_count": 84,
      "metadata": {
        "colab": {
          "base_uri": "https://localhost:8080/",
          "height": 313
        },
        "outputId": "d7cf9701-39fb-4ff9-c0ad-3619fb47b291",
        "id": "QlvSwpKB_KeU"
      },
      "outputs": [
        {
          "output_type": "stream",
          "name": "stdout",
          "text": [
            "dict_keys(['loss', 'f1', 'rec@prec', 'val_loss', 'val_f1', 'val_rec@prec'])\n"
          ]
        },
        {
          "output_type": "display_data",
          "data": {
            "text/plain": [
              "<Figure size 432x288 with 1 Axes>"
            ],
            "image/png": "[encoded data removed]"
          },
          "metadata": {
            "needs_background": "light"
          }
        }
      ],
      "source": [
        "print(model.history.history.keys())\n",
        "# summarize history for accuracy\n",
        "plt.plot(model.history.history['rec@prec'])\n",
        "plt.plot(model.history.history['val_rec@prec'])\n",
        "plt.title('model f1')\n",
        "plt.ylabel('f1')\n",
        "plt.xlabel('epoch')\n",
        "plt.legend(['train', 'val'], loc='upper left')\n",
        "plt.show()"
      ],
      "id": "QlvSwpKB_KeU"
    },
    {
      "cell_type": "markdown",
      "source": [
        "**Один BIGRU слой и два LSTM слоя**"
      ],
      "metadata": {
        "id": "avumht3RCKIW"
      },
      "id": "avumht3RCKIW"
    },
    {
      "cell_type": "code",
      "execution_count": 85,
      "metadata": {
        "id": "bNmE9VkKCWhp"
      },
      "outputs": [],
      "source": [
        "inputs = tf.keras.layers.Input(shape=(MAX_LEN,))\n",
        "embeddings = tf.keras.layers.Embedding(input_dim=len(word2id), output_dim=30)(inputs, )\n",
        "\n",
        "bigru1 = tf.keras.layers.Bidirectional(tf.keras.layers.GRU(128, return_sequences=True))(embeddings)\n",
        "lstm1_0 = tf.keras.layers.LSTM(128, return_sequences=True)(bigru1)\n",
        "lstm1_1 = tf.keras.layers.LSTM(128, return_sequences=False)(lstm1_0)\n",
        "\n",
        "outputs = tf.keras.layers.Dense(len(label2id), activation='softmax')(lstm1_1)\n",
        "\n",
        "model = tf.keras.Model(inputs=inputs, outputs=outputs)\n",
        "optimizer = tf.keras.optimizers.Adam(learning_rate=0.001)\n",
        "model.compile(optimizer=optimizer,\n",
        "              loss='categorical_crossentropy',\n",
        "              metrics=[f1, tf.keras.metrics.RecallAtPrecision(0.8, name='rec@prec')])"
      ],
      "id": "bNmE9VkKCWhp"
    },
    {
      "cell_type": "code",
      "execution_count": 86,
      "metadata": {
        "colab": {
          "base_uri": "https://localhost:8080/"
        },
        "outputId": "bf3563fe-764a-41b2-ab7e-e286be134926",
        "id": "HvFqqFDeCWhw"
      },
      "outputs": [
        {
          "output_type": "stream",
          "name": "stdout",
          "text": [
            "Epoch 1/20\n",
            "43/43 [==============================] - 17s 277ms/step - loss: 2.4237 - f1: 0.0000e+00 - rec@prec: 0.0000e+00 - val_loss: 2.3194 - val_f1: 0.0000e+00 - val_rec@prec: 0.0000e+00\n",
            "Epoch 2/20\n",
            "43/43 [==============================] - 11s 251ms/step - loss: 2.2792 - f1: 0.0166 - rec@prec: 2.3732e-05 - val_loss: 2.1197 - val_f1: 0.1327 - val_rec@prec: 0.0000e+00\n",
            "Epoch 3/20\n",
            "43/43 [==============================] - 11s 253ms/step - loss: 1.8967 - f1: 0.1800 - rec@prec: 0.0514 - val_loss: 1.6932 - val_f1: 0.2418 - val_rec@prec: 0.1389\n",
            "Epoch 4/20\n",
            "43/43 [==============================] - 11s 254ms/step - loss: 1.5031 - f1: 0.3967 - rec@prec: 0.1859 - val_loss: 1.4457 - val_f1: 0.5057 - val_rec@prec: 0.2245\n",
            "Epoch 5/20\n",
            "43/43 [==============================] - 11s 256ms/step - loss: 1.2527 - f1: 0.5823 - rec@prec: 0.3247 - val_loss: 1.4032 - val_f1: 0.5454 - val_rec@prec: 0.2759\n",
            "Epoch 6/20\n",
            "43/43 [==============================] - 11s 257ms/step - loss: 1.1104 - f1: 0.6402 - rec@prec: 0.4698 - val_loss: 1.3222 - val_f1: 0.5671 - val_rec@prec: 0.3390\n",
            "Epoch 7/20\n",
            "43/43 [==============================] - 11s 258ms/step - loss: 1.0439 - f1: 0.6648 - rec@prec: 0.5465 - val_loss: 1.3139 - val_f1: 0.5690 - val_rec@prec: 0.3643\n",
            "Epoch 8/20\n",
            "43/43 [==============================] - 11s 259ms/step - loss: 0.9335 - f1: 0.7112 - rec@prec: 0.6450 - val_loss: 1.3121 - val_f1: 0.6040 - val_rec@prec: 0.3819\n",
            "Epoch 9/20\n",
            "43/43 [==============================] - 11s 260ms/step - loss: 0.8426 - f1: 0.7478 - rec@prec: 0.7133 - val_loss: 1.2964 - val_f1: 0.6105 - val_rec@prec: 0.4166\n",
            "Epoch 10/20\n",
            "43/43 [==============================] - 11s 259ms/step - loss: 0.7817 - f1: 0.7716 - rec@prec: 0.7567 - val_loss: 1.3085 - val_f1: 0.6273 - val_rec@prec: 0.4527\n",
            "Epoch 11/20\n",
            "43/43 [==============================] - 11s 261ms/step - loss: 0.7243 - f1: 0.7922 - rec@prec: 0.7911 - val_loss: 1.3404 - val_f1: 0.6221 - val_rec@prec: 0.4436\n",
            "Epoch 12/20\n",
            "43/43 [==============================] - 11s 261ms/step - loss: 0.6721 - f1: 0.8107 - rec@prec: 0.8168 - val_loss: 1.3634 - val_f1: 0.6182 - val_rec@prec: 0.4680\n",
            "Epoch 13/20\n",
            "43/43 [==============================] - 11s 262ms/step - loss: 0.6090 - f1: 0.8331 - rec@prec: 0.8496 - val_loss: 1.3689 - val_f1: 0.6282 - val_rec@prec: 0.4531\n",
            "Epoch 14/20\n",
            "43/43 [==============================] - 11s 263ms/step - loss: 0.5445 - f1: 0.8539 - rec@prec: 0.8792 - val_loss: 1.3924 - val_f1: 0.6380 - val_rec@prec: 0.4964\n",
            "Epoch 15/20\n",
            "43/43 [==============================] - 11s 263ms/step - loss: 0.5205 - f1: 0.8593 - rec@prec: 0.8885 - val_loss: 1.4416 - val_f1: 0.6248 - val_rec@prec: 0.4725\n",
            "Epoch 16/20\n",
            "43/43 [==============================] - 11s 263ms/step - loss: 0.4743 - f1: 0.8752 - rec@prec: 0.9063 - val_loss: 1.4105 - val_f1: 0.6457 - val_rec@prec: 0.5113\n",
            "Epoch 17/20\n",
            "43/43 [==============================] - 11s 264ms/step - loss: 0.4527 - f1: 0.8807 - rec@prec: 0.9140 - val_loss: 1.4275 - val_f1: 0.6364 - val_rec@prec: 0.4802\n",
            "Epoch 18/20\n",
            "43/43 [==============================] - 11s 264ms/step - loss: 0.4259 - f1: 0.8868 - rec@prec: 0.9222 - val_loss: 1.4578 - val_f1: 0.6274 - val_rec@prec: 0.4802\n",
            "Epoch 19/20\n",
            "43/43 [==============================] - 11s 266ms/step - loss: 0.3905 - f1: 0.9006 - rec@prec: 0.9340 - val_loss: 1.4577 - val_f1: 0.6506 - val_rec@prec: 0.4932\n",
            "Epoch 20/20\n",
            "43/43 [==============================] - 11s 266ms/step - loss: 0.3556 - f1: 0.9102 - rec@prec: 0.9430 - val_loss: 1.4745 - val_f1: 0.6393 - val_rec@prec: 0.5086\n"
          ]
        },
        {
          "output_type": "execute_result",
          "data": {
            "text/plain": [
              "<keras.callbacks.History at 0x7f1eb057dbd0>"
            ]
          },
          "metadata": {},
          "execution_count": 86
        }
      ],
      "source": [
        "model.fit(X_train, y_train, \n",
        "          validation_data=(X_valid, y_valid),\n",
        "          batch_size=1000,\n",
        "         epochs=20)"
      ],
      "id": "HvFqqFDeCWhw"
    },
    {
      "cell_type": "code",
      "execution_count": 87,
      "metadata": {
        "colab": {
          "base_uri": "https://localhost:8080/",
          "height": 313
        },
        "outputId": "2d9076a5-71c3-4f83-f749-d30061abfb1e",
        "id": "lrFXgwfpCWh0"
      },
      "outputs": [
        {
          "output_type": "stream",
          "name": "stdout",
          "text": [
            "dict_keys(['loss', 'f1', 'rec@prec', 'val_loss', 'val_f1', 'val_rec@prec'])\n"
          ]
        },
        {
          "output_type": "display_data",
          "data": {
            "text/plain": [
              "<Figure size 432x288 with 1 Axes>"
            ],
            "image/png": "[encoded data removed]"
          },
          "metadata": {
            "needs_background": "light"
          }
        }
      ],
      "source": [
        "print(model.history.history.keys())\n",
        "# summarize history for accuracy\n",
        "plt.plot(model.history.history['rec@prec'])\n",
        "plt.plot(model.history.history['val_rec@prec'])\n",
        "plt.title('model f1')\n",
        "plt.ylabel('f1')\n",
        "plt.xlabel('epoch')\n",
        "plt.legend(['train', 'val'], loc='upper left')\n",
        "plt.show()"
      ],
      "id": "lrFXgwfpCWh0"
    },
    {
      "cell_type": "markdown",
      "source": [
        "**Пять GRU слоев и три LSTM слоя**"
      ],
      "metadata": {
        "id": "F4iMDYnhFtDp"
      },
      "id": "F4iMDYnhFtDp"
    },
    {
      "cell_type": "code",
      "execution_count": 88,
      "metadata": {
        "id": "YQUd10kwF3Zv"
      },
      "outputs": [],
      "source": [
        "inputs = tf.keras.layers.Input(shape=(MAX_LEN,))\n",
        "embeddings = tf.keras.layers.Embedding(input_dim=len(word2id), output_dim=30)(inputs, )\n",
        "\n",
        "gru2_0 = tf.keras.layers.GRU(128, return_sequences=True)(embeddings)\n",
        "gru2_1 = tf.keras.layers.GRU(128, return_sequences=True)(gru2_0)\n",
        "gru2_2 = tf.keras.layers.GRU(128, return_sequences=True)(gru2_1)\n",
        "gru2_3 = tf.keras.layers.GRU(128, return_sequences=True)(gru2_2)\n",
        "gru2_4 = tf.keras.layers.GRU(128, return_sequences=True)(gru2_3)\n",
        "\n",
        "lstm2_0 = tf.keras.layers.LSTM(128, return_sequences=True)(gru2_4)\n",
        "lstm2_1 = tf.keras.layers.LSTM(128, return_sequences=True)(lstm2_0)\n",
        "lstm2_2 = tf.keras.layers.LSTM(128, return_sequences=False)(lstm2_1)\n",
        "\n",
        "outputs = tf.keras.layers.Dense(len(label2id), activation='softmax')(lstm2_2)\n",
        "\n",
        "model = tf.keras.Model(inputs=inputs, outputs=outputs)\n",
        "optimizer = tf.keras.optimizers.Adam(learning_rate=0.001)\n",
        "model.compile(optimizer=optimizer,\n",
        "              loss='categorical_crossentropy',\n",
        "              metrics=[f1, tf.keras.metrics.RecallAtPrecision(0.8, name='rec@prec')])"
      ],
      "id": "YQUd10kwF3Zv"
    },
    {
      "cell_type": "code",
      "execution_count": 89,
      "metadata": {
        "colab": {
          "base_uri": "https://localhost:8080/"
        },
        "outputId": "7402360a-1948-400a-acf9-40a0b14526be",
        "id": "ADIjo27FF3Zz"
      },
      "outputs": [
        {
          "output_type": "stream",
          "name": "stdout",
          "text": [
            "Epoch 1/20\n",
            "43/43 [==============================] - 32s 516ms/step - loss: 2.3950 - f1: 0.0000e+00 - rec@prec: 0.0000e+00 - val_loss: 2.3207 - val_f1: 0.0000e+00 - val_rec@prec: 0.0000e+00\n",
            "Epoch 2/20\n",
            "43/43 [==============================] - 20s 469ms/step - loss: 2.3237 - f1: 0.0000e+00 - rec@prec: 0.0000e+00 - val_loss: 2.3215 - val_f1: 0.0000e+00 - val_rec@prec: 0.0000e+00\n",
            "Epoch 3/20\n",
            "43/43 [==============================] - 20s 471ms/step - loss: 2.3242 - f1: 0.0000e+00 - rec@prec: 0.0000e+00 - val_loss: 2.3209 - val_f1: 0.0000e+00 - val_rec@prec: 0.0000e+00\n",
            "Epoch 4/20\n",
            "43/43 [==============================] - 20s 474ms/step - loss: 2.3242 - f1: 0.0000e+00 - rec@prec: 0.0000e+00 - val_loss: 2.3213 - val_f1: 0.0000e+00 - val_rec@prec: 0.0000e+00\n",
            "Epoch 5/20\n",
            "43/43 [==============================] - 20s 477ms/step - loss: 2.3226 - f1: 0.0000e+00 - rec@prec: 0.0000e+00 - val_loss: 2.3202 - val_f1: 0.0000e+00 - val_rec@prec: 0.0000e+00\n",
            "Epoch 6/20\n",
            "43/43 [==============================] - 21s 479ms/step - loss: 2.3225 - f1: 0.0000e+00 - rec@prec: 0.0000e+00 - val_loss: 2.3184 - val_f1: 0.0000e+00 - val_rec@prec: 0.0000e+00\n",
            "Epoch 7/20\n",
            "43/43 [==============================] - 21s 485ms/step - loss: 2.3214 - f1: 0.0000e+00 - rec@prec: 0.0000e+00 - val_loss: 2.3194 - val_f1: 0.0000e+00 - val_rec@prec: 0.0000e+00\n",
            "Epoch 8/20\n",
            "43/43 [==============================] - 21s 489ms/step - loss: 2.3229 - f1: 0.0000e+00 - rec@prec: 0.0000e+00 - val_loss: 2.3190 - val_f1: 0.0000e+00 - val_rec@prec: 0.0000e+00\n",
            "Epoch 9/20\n",
            "43/43 [==============================] - 21s 491ms/step - loss: 2.3226 - f1: 0.0000e+00 - rec@prec: 0.0000e+00 - val_loss: 2.3201 - val_f1: 0.0000e+00 - val_rec@prec: 0.0000e+00\n",
            "Epoch 10/20\n",
            "43/43 [==============================] - 21s 489ms/step - loss: 2.3229 - f1: 0.0000e+00 - rec@prec: 0.0000e+00 - val_loss: 2.3192 - val_f1: 0.0000e+00 - val_rec@prec: 0.0000e+00\n",
            "Epoch 11/20\n",
            "43/43 [==============================] - 21s 489ms/step - loss: 2.3225 - f1: 0.0000e+00 - rec@prec: 0.0000e+00 - val_loss: 2.3191 - val_f1: 0.0000e+00 - val_rec@prec: 0.0000e+00\n",
            "Epoch 12/20\n",
            "43/43 [==============================] - 21s 489ms/step - loss: 2.3216 - f1: 0.0000e+00 - rec@prec: 0.0000e+00 - val_loss: 2.3200 - val_f1: 0.0000e+00 - val_rec@prec: 0.0000e+00\n",
            "Epoch 13/20\n",
            "43/43 [==============================] - 21s 489ms/step - loss: 2.3222 - f1: 0.0000e+00 - rec@prec: 0.0000e+00 - val_loss: 2.3208 - val_f1: 0.0000e+00 - val_rec@prec: 0.0000e+00\n",
            "Epoch 14/20\n",
            "43/43 [==============================] - 21s 489ms/step - loss: 2.3224 - f1: 0.0000e+00 - rec@prec: 0.0000e+00 - val_loss: 2.3194 - val_f1: 0.0000e+00 - val_rec@prec: 0.0000e+00\n",
            "Epoch 15/20\n",
            "43/43 [==============================] - 21s 489ms/step - loss: 2.3225 - f1: 0.0000e+00 - rec@prec: 0.0000e+00 - val_loss: 2.3214 - val_f1: 0.0000e+00 - val_rec@prec: 0.0000e+00\n",
            "Epoch 16/20\n",
            "43/43 [==============================] - 21s 489ms/step - loss: 2.3225 - f1: 0.0000e+00 - rec@prec: 0.0000e+00 - val_loss: 2.3201 - val_f1: 0.0000e+00 - val_rec@prec: 0.0000e+00\n",
            "Epoch 17/20\n",
            "43/43 [==============================] - 21s 489ms/step - loss: 2.3222 - f1: 0.0000e+00 - rec@prec: 0.0000e+00 - val_loss: 2.3192 - val_f1: 0.0000e+00 - val_rec@prec: 0.0000e+00\n",
            "Epoch 18/20\n",
            "43/43 [==============================] - 21s 489ms/step - loss: 2.3220 - f1: 0.0000e+00 - rec@prec: 0.0000e+00 - val_loss: 2.3191 - val_f1: 0.0000e+00 - val_rec@prec: 0.0000e+00\n",
            "Epoch 19/20\n",
            "43/43 [==============================] - 21s 489ms/step - loss: 2.3232 - f1: 0.0000e+00 - rec@prec: 0.0000e+00 - val_loss: 2.3218 - val_f1: 0.0000e+00 - val_rec@prec: 0.0000e+00\n",
            "Epoch 20/20\n",
            "43/43 [==============================] - 21s 489ms/step - loss: 2.3219 - f1: 0.0000e+00 - rec@prec: 0.0000e+00 - val_loss: 2.3203 - val_f1: 0.0000e+00 - val_rec@prec: 0.0000e+00\n"
          ]
        },
        {
          "output_type": "execute_result",
          "data": {
            "text/plain": [
              "<keras.callbacks.History at 0x7f1f55ba9e10>"
            ]
          },
          "metadata": {},
          "execution_count": 89
        }
      ],
      "source": [
        "model.fit(X_train, y_train, \n",
        "          validation_data=(X_valid, y_valid),\n",
        "          batch_size=1000,\n",
        "         epochs=20)"
      ],
      "id": "ADIjo27FF3Zz"
    },
    {
      "cell_type": "code",
      "execution_count": 90,
      "metadata": {
        "colab": {
          "base_uri": "https://localhost:8080/",
          "height": 313
        },
        "outputId": "8e133e5e-5779-4b4a-fb03-010e690382b7",
        "id": "6v2n2UACF3Z3"
      },
      "outputs": [
        {
          "output_type": "stream",
          "name": "stdout",
          "text": [
            "dict_keys(['loss', 'f1', 'rec@prec', 'val_loss', 'val_f1', 'val_rec@prec'])\n"
          ]
        },
        {
          "output_type": "display_data",
          "data": {
            "text/plain": [
              "<Figure size 432x288 with 1 Axes>"
            ],
            "image/png": "[encoded data removed]"
          },
          "metadata": {
            "needs_background": "light"
          }
        }
      ],
      "source": [
        "print(model.history.history.keys())\n",
        "# summarize history for accuracy\n",
        "plt.plot(model.history.history['rec@prec'])\n",
        "plt.plot(model.history.history['val_rec@prec'])\n",
        "plt.title('model f1')\n",
        "plt.ylabel('f1')\n",
        "plt.xlabel('epoch')\n",
        "plt.legend(['train', 'val'], loc='upper left')\n",
        "plt.show()"
      ],
      "id": "6v2n2UACF3Z3"
    },
    {
      "cell_type": "markdown",
      "source": [
        "**Один BIGRU слой и один BILSTM слой (разные модели для forward и backward проходов)**"
      ],
      "metadata": {
        "id": "VRIxbwdNYAFX"
      },
      "id": "VRIxbwdNYAFX"
    },
    {
      "cell_type": "code",
      "source": [
        "inputs = tf.keras.layers.Input(shape=(MAX_LEN,))\n",
        "embeddings = tf.keras.layers.Embedding(input_dim=len(word2id), output_dim=30)(inputs, )\n",
        "\n",
        "bigru_fw = tf.keras.layers.Bidirectional(\n",
        "    tf.keras.layers.GRU(128, return_sequences=True),\n",
        "    backward_layer=tf.keras.layers.GRU(32, return_sequences=True, go_backwards=True)\n",
        "    )(embeddings)\n",
        "\n",
        "bilstm_bw = tf.keras.layers.Bidirectional(\n",
        "    tf.keras.layers.LSTM(128, return_sequences=False),\n",
        "    backward_layer=tf.keras.layers.LSTM(128, return_sequences=False, go_backwards=True)\n",
        "    )(bigru_fw)\n",
        "\n",
        "outputs = tf.keras.layers.Dense(len(label2id), activation='softmax')(bilstm_bw)\n",
        "\n",
        "model = tf.keras.Model(inputs=inputs, outputs=outputs)\n",
        "optimizer = tf.keras.optimizers.Adam(learning_rate=0.001)\n",
        "model.compile(optimizer=optimizer,\n",
        "              loss='categorical_crossentropy',\n",
        "              metrics=[f1, tf.keras.metrics.RecallAtPrecision(0.8, name='rec@prec')])"
      ],
      "metadata": {
        "id": "PSk7ZsifYUx9"
      },
      "id": "PSk7ZsifYUx9",
      "execution_count": 91,
      "outputs": []
    },
    {
      "cell_type": "code",
      "execution_count": 92,
      "metadata": {
        "colab": {
          "base_uri": "https://localhost:8080/"
        },
        "outputId": "b14ecb38-af10-47e2-e5bd-19231277f56b",
        "id": "gwRNSOw-aPz8"
      },
      "outputs": [
        {
          "output_type": "stream",
          "name": "stdout",
          "text": [
            "Epoch 1/20\n",
            "43/43 [==============================] - 17s 281ms/step - loss: 2.4334 - f1: 0.0000e+00 - rec@prec: 0.0000e+00 - val_loss: 2.3017 - val_f1: 0.0000e+00 - val_rec@prec: 0.0000e+00\n",
            "Epoch 2/20\n",
            "43/43 [==============================] - 10s 242ms/step - loss: 2.1360 - f1: 0.0047 - rec@prec: 0.0000e+00 - val_loss: 1.8935 - val_f1: 0.0110 - val_rec@prec: 0.0365\n",
            "Epoch 3/20\n",
            "43/43 [==============================] - 11s 246ms/step - loss: 1.7141 - f1: 0.1779 - rec@prec: 0.0495 - val_loss: 1.6174 - val_f1: 0.3036 - val_rec@prec: 0.1317\n",
            "Epoch 4/20\n",
            "43/43 [==============================] - 11s 246ms/step - loss: 1.3898 - f1: 0.4644 - rec@prec: 0.2596 - val_loss: 1.4474 - val_f1: 0.5446 - val_rec@prec: 0.3242\n",
            "Epoch 5/20\n",
            "43/43 [==============================] - 10s 244ms/step - loss: 1.1801 - f1: 0.6142 - rec@prec: 0.4605 - val_loss: 1.4059 - val_f1: 0.5240 - val_rec@prec: 0.3476\n",
            "Epoch 6/20\n",
            "43/43 [==============================] - 10s 243ms/step - loss: 1.0443 - f1: 0.6563 - rec@prec: 0.5556 - val_loss: 1.3253 - val_f1: 0.5886 - val_rec@prec: 0.4346\n",
            "Epoch 7/20\n",
            "43/43 [==============================] - 10s 240ms/step - loss: 0.9234 - f1: 0.7041 - rec@prec: 0.6403 - val_loss: 1.3505 - val_f1: 0.5955 - val_rec@prec: 0.4270\n",
            "Epoch 8/20\n",
            "43/43 [==============================] - 10s 241ms/step - loss: 0.8376 - f1: 0.7399 - rec@prec: 0.7061 - val_loss: 1.3841 - val_f1: 0.6036 - val_rec@prec: 0.4472\n",
            "Epoch 9/20\n",
            "43/43 [==============================] - 10s 241ms/step - loss: 0.7739 - f1: 0.7659 - rec@prec: 0.7508 - val_loss: 1.4261 - val_f1: 0.6057 - val_rec@prec: 0.3981\n",
            "Epoch 10/20\n",
            "43/43 [==============================] - 10s 243ms/step - loss: 0.7129 - f1: 0.7880 - rec@prec: 0.7861 - val_loss: 1.3925 - val_f1: 0.6212 - val_rec@prec: 0.4567\n",
            "Epoch 11/20\n",
            "43/43 [==============================] - 10s 244ms/step - loss: 0.6555 - f1: 0.8093 - rec@prec: 0.8187 - val_loss: 1.3767 - val_f1: 0.6333 - val_rec@prec: 0.4797\n",
            "Epoch 12/20\n",
            "43/43 [==============================] - 10s 244ms/step - loss: 0.5706 - f1: 0.8387 - rec@prec: 0.8630 - val_loss: 1.4156 - val_f1: 0.6386 - val_rec@prec: 0.4608\n",
            "Epoch 13/20\n",
            "43/43 [==============================] - 10s 242ms/step - loss: 0.5055 - f1: 0.8586 - rec@prec: 0.8884 - val_loss: 1.4186 - val_f1: 0.6390 - val_rec@prec: 0.4784\n",
            "Epoch 14/20\n",
            "43/43 [==============================] - 10s 244ms/step - loss: 0.4570 - f1: 0.8730 - rec@prec: 0.9088 - val_loss: 1.4354 - val_f1: 0.6533 - val_rec@prec: 0.5036\n",
            "Epoch 15/20\n",
            "43/43 [==============================] - 10s 244ms/step - loss: 0.4071 - f1: 0.8888 - rec@prec: 0.9265 - val_loss: 1.4630 - val_f1: 0.6488 - val_rec@prec: 0.4869\n",
            "Epoch 16/20\n",
            "43/43 [==============================] - 11s 244ms/step - loss: 0.3631 - f1: 0.9005 - rec@prec: 0.9393 - val_loss: 1.5335 - val_f1: 0.6396 - val_rec@prec: 0.4869\n",
            "Epoch 17/20\n",
            "43/43 [==============================] - 10s 242ms/step - loss: 0.3237 - f1: 0.9136 - rec@prec: 0.9506 - val_loss: 1.5489 - val_f1: 0.6450 - val_rec@prec: 0.4621\n",
            "Epoch 18/20\n",
            "43/43 [==============================] - 10s 241ms/step - loss: 0.2975 - f1: 0.9212 - rec@prec: 0.9577 - val_loss: 1.6243 - val_f1: 0.6239 - val_rec@prec: 0.4554\n",
            "Epoch 19/20\n",
            "43/43 [==============================] - 10s 242ms/step - loss: 0.2991 - f1: 0.9184 - rec@prec: 0.9571 - val_loss: 1.6074 - val_f1: 0.6361 - val_rec@prec: 0.4860\n",
            "Epoch 20/20\n",
            "43/43 [==============================] - 10s 241ms/step - loss: 0.2566 - f1: 0.9307 - rec@prec: 0.9683 - val_loss: 1.6741 - val_f1: 0.6361 - val_rec@prec: 0.4590\n"
          ]
        },
        {
          "output_type": "execute_result",
          "data": {
            "text/plain": [
              "<keras.callbacks.History at 0x7f1e332f0e50>"
            ]
          },
          "metadata": {},
          "execution_count": 92
        }
      ],
      "source": [
        "model.fit(X_train, y_train, \n",
        "          validation_data=(X_valid, y_valid),\n",
        "          batch_size=1000,\n",
        "         epochs=20)"
      ],
      "id": "gwRNSOw-aPz8"
    },
    {
      "cell_type": "code",
      "execution_count": 93,
      "metadata": {
        "colab": {
          "base_uri": "https://localhost:8080/",
          "height": 313
        },
        "outputId": "60a5d67c-6a2d-4eb6-c1d8-7f0d332a6f20",
        "id": "a5Vuc2R7aS5-"
      },
      "outputs": [
        {
          "output_type": "stream",
          "name": "stdout",
          "text": [
            "dict_keys(['loss', 'f1', 'rec@prec', 'val_loss', 'val_f1', 'val_rec@prec'])\n"
          ]
        },
        {
          "output_type": "display_data",
          "data": {
            "text/plain": [
              "<Figure size 432x288 with 1 Axes>"
            ],
            "image/png": "[encoded data removed]"
          },
          "metadata": {
            "needs_background": "light"
          }
        }
      ],
      "source": [
        "print(model.history.history.keys())\n",
        "# summarize history for accuracy\n",
        "plt.plot(model.history.history['rec@prec'])\n",
        "plt.plot(model.history.history['val_rec@prec'])\n",
        "plt.title('model f1')\n",
        "plt.ylabel('f1')\n",
        "plt.xlabel('epoch')\n",
        "plt.legend(['train', 'val'], loc='upper left')\n",
        "plt.show()"
      ],
      "id": "a5Vuc2R7aS5-"
    },
    {
      "cell_type": "markdown",
      "source": [
        "**LSTM--GRU--BILSTM--BIGRU--GRU--LSTM**"
      ],
      "metadata": {
        "id": "SQTLJCQxbKW2"
      },
      "id": "SQTLJCQxbKW2"
    },
    {
      "cell_type": "code",
      "execution_count": 94,
      "metadata": {
        "id": "XURJymGvbYpy"
      },
      "outputs": [],
      "source": [
        "inputs = tf.keras.layers.Input(shape=(MAX_LEN,))\n",
        "embeddings = tf.keras.layers.Embedding(input_dim=len(word2id), output_dim=30)(inputs, )\n",
        "\n",
        "lstm3_0 = tf.keras.layers.LSTM(128, return_sequences=True)(embeddings)\n",
        "gru3_0 = tf.keras.layers.GRU(128, return_sequences=True)(lstm3_0)\n",
        "\n",
        "bilstm3 = tf.keras.layers.Bidirectional(tf.keras.layers.LSTM(128, return_sequences=True))(gru3_0) \n",
        "bigru3 = tf.keras.layers.Bidirectional(tf.keras.layers.GRU(128, return_sequences=True))(bilstm3)\n",
        "\n",
        "gru3_1 = tf.keras.layers.GRU(128, return_sequences=True)(bigru3)\n",
        "lstm3_1 = tf.keras.layers.LSTM(128, return_sequences=False)(gru3_1)\n",
        "\n",
        "outputs = tf.keras.layers.Dense(len(label2id), activation='softmax')(lstm3_1)\n",
        "\n",
        "model = tf.keras.Model(inputs=inputs, outputs=outputs)\n",
        "optimizer = tf.keras.optimizers.Adam(learning_rate=0.001)\n",
        "model.compile(optimizer=optimizer,\n",
        "              loss='categorical_crossentropy',\n",
        "              metrics=[f1, tf.keras.metrics.RecallAtPrecision(0.8, name='rec@prec')])"
      ],
      "id": "XURJymGvbYpy"
    },
    {
      "cell_type": "code",
      "execution_count": 95,
      "metadata": {
        "colab": {
          "base_uri": "https://localhost:8080/"
        },
        "outputId": "0828c49f-91d2-4be3-c8c1-766112a9404d",
        "id": "mU-m8TsucdSK"
      },
      "outputs": [
        {
          "output_type": "stream",
          "name": "stdout",
          "text": [
            "Epoch 1/20\n",
            "43/43 [==============================] - 36s 627ms/step - loss: 2.3992 - f1: 0.0000e+00 - rec@prec: 0.0000e+00 - val_loss: 2.3221 - val_f1: 0.0000e+00 - val_rec@prec: 0.0000e+00\n",
            "Epoch 2/20\n",
            "43/43 [==============================] - 25s 587ms/step - loss: 2.1950 - f1: 0.0036 - rec@prec: 0.0012 - val_loss: 1.9114 - val_f1: 0.0134 - val_rec@prec: 0.0261\n",
            "Epoch 3/20\n",
            "43/43 [==============================] - 25s 577ms/step - loss: 1.7225 - f1: 0.1542 - rec@prec: 0.0698 - val_loss: 1.6999 - val_f1: 0.2316 - val_rec@prec: 0.0879\n",
            "Epoch 4/20\n",
            "43/43 [==============================] - 25s 577ms/step - loss: 1.5460 - f1: 0.3350 - rec@prec: 0.1204 - val_loss: 1.7176 - val_f1: 0.3577 - val_rec@prec: 0.0748\n",
            "Epoch 5/20\n",
            "43/43 [==============================] - 25s 582ms/step - loss: 1.4806 - f1: 0.4084 - rec@prec: 0.1250 - val_loss: 1.6877 - val_f1: 0.3938 - val_rec@prec: 0.1204\n",
            "Epoch 6/20\n",
            "43/43 [==============================] - 25s 580ms/step - loss: 1.3877 - f1: 0.4890 - rec@prec: 0.1520 - val_loss: 1.6536 - val_f1: 0.4154 - val_rec@prec: 0.1226\n",
            "Epoch 7/20\n",
            "43/43 [==============================] - 25s 578ms/step - loss: 1.2997 - f1: 0.5426 - rec@prec: 0.2190 - val_loss: 1.5748 - val_f1: 0.4979 - val_rec@prec: 0.2038\n",
            "Epoch 8/20\n",
            "43/43 [==============================] - 25s 577ms/step - loss: 1.1418 - f1: 0.6244 - rec@prec: 0.3916 - val_loss: 1.5012 - val_f1: 0.5384 - val_rec@prec: 0.2493\n",
            "Epoch 9/20\n",
            "43/43 [==============================] - 25s 578ms/step - loss: 1.0071 - f1: 0.6817 - rec@prec: 0.5251 - val_loss: 1.6074 - val_f1: 0.5230 - val_rec@prec: 0.2119\n",
            "Epoch 10/20\n",
            "43/43 [==============================] - 25s 579ms/step - loss: 0.9426 - f1: 0.6976 - rec@prec: 0.5747 - val_loss: 1.5082 - val_f1: 0.5586 - val_rec@prec: 0.2741\n",
            "Epoch 11/20\n",
            "43/43 [==============================] - 25s 581ms/step - loss: 0.8467 - f1: 0.7301 - rec@prec: 0.6609 - val_loss: 1.4872 - val_f1: 0.5607 - val_rec@prec: 0.2782\n",
            "Epoch 12/20\n",
            "43/43 [==============================] - 25s 580ms/step - loss: 0.8004 - f1: 0.7452 - rec@prec: 0.6937 - val_loss: 1.5365 - val_f1: 0.5549 - val_rec@prec: 0.2827\n",
            "Epoch 13/20\n",
            "43/43 [==============================] - 25s 580ms/step - loss: 0.7118 - f1: 0.7771 - rec@prec: 0.7676 - val_loss: 1.5245 - val_f1: 0.5839 - val_rec@prec: 0.3007\n",
            "Epoch 14/20\n",
            "43/43 [==============================] - 25s 581ms/step - loss: 0.6206 - f1: 0.8145 - rec@prec: 0.8325 - val_loss: 1.5133 - val_f1: 0.6006 - val_rec@prec: 0.2935\n",
            "Epoch 15/20\n",
            "43/43 [==============================] - 25s 581ms/step - loss: 0.5503 - f1: 0.8408 - rec@prec: 0.8700 - val_loss: 1.5570 - val_f1: 0.6174 - val_rec@prec: 0.3417\n",
            "Epoch 16/20\n",
            "43/43 [==============================] - 25s 581ms/step - loss: 0.4848 - f1: 0.8636 - rec@prec: 0.8987 - val_loss: 1.6192 - val_f1: 0.6017 - val_rec@prec: 0.3305\n",
            "Epoch 17/20\n",
            "43/43 [==============================] - 25s 580ms/step - loss: 0.4574 - f1: 0.8706 - rec@prec: 0.9094 - val_loss: 1.5855 - val_f1: 0.6131 - val_rec@prec: 0.3620\n",
            "Epoch 18/20\n",
            "43/43 [==============================] - 25s 581ms/step - loss: 0.5541 - f1: 0.8458 - rec@prec: 0.8748 - val_loss: 1.6289 - val_f1: 0.5776 - val_rec@prec: 0.2480\n",
            "Epoch 19/20\n",
            "43/43 [==============================] - 25s 581ms/step - loss: 0.4776 - f1: 0.8651 - rec@prec: 0.9016 - val_loss: 1.6454 - val_f1: 0.6064 - val_rec@prec: 0.3115\n",
            "Epoch 20/20\n",
            "43/43 [==============================] - 25s 582ms/step - loss: 0.3677 - f1: 0.8987 - rec@prec: 0.9412 - val_loss: 1.5806 - val_f1: 0.6211 - val_rec@prec: 0.4175\n"
          ]
        },
        {
          "output_type": "execute_result",
          "data": {
            "text/plain": [
              "<keras.callbacks.History at 0x7f1f55b79b50>"
            ]
          },
          "metadata": {},
          "execution_count": 95
        }
      ],
      "source": [
        "model.fit(X_train, y_train, \n",
        "          validation_data=(X_valid, y_valid),\n",
        "          batch_size=1000,\n",
        "         epochs=20)"
      ],
      "id": "mU-m8TsucdSK"
    },
    {
      "cell_type": "code",
      "execution_count": 96,
      "metadata": {
        "colab": {
          "base_uri": "https://localhost:8080/",
          "height": 313
        },
        "outputId": "4584bab6-dcd2-4b9e-ee91-96ac7423a63a",
        "id": "OLrdfb1BcdSO"
      },
      "outputs": [
        {
          "output_type": "stream",
          "name": "stdout",
          "text": [
            "dict_keys(['loss', 'f1', 'rec@prec', 'val_loss', 'val_f1', 'val_rec@prec'])\n"
          ]
        },
        {
          "output_type": "display_data",
          "data": {
            "text/plain": [
              "<Figure size 432x288 with 1 Axes>"
            ],
            "image/png": "[encoded data removed]"
          },
          "metadata": {
            "needs_background": "light"
          }
        }
      ],
      "source": [
        "print(model.history.history.keys())\n",
        "# summarize history for accuracy\n",
        "plt.plot(model.history.history['rec@prec'])\n",
        "plt.plot(model.history.history['val_rec@prec'])\n",
        "plt.title('model f1')\n",
        "plt.ylabel('f1')\n",
        "plt.xlabel('epoch')\n",
        "plt.legend(['train', 'val'], loc='upper left')\n",
        "plt.show()"
      ],
      "id": "OLrdfb1BcdSO"
    },
    {
      "cell_type": "markdown",
      "source": [
        "**Лучше всего себя показала модель с пятью GRU слоями и тремя LSTM слоями**"
      ],
      "metadata": {
        "id": "1mqT5qGYgyZd"
      },
      "id": "1mqT5qGYgyZd"
    },
    {
      "cell_type": "markdown",
      "id": "ed5d6eea",
      "metadata": {
        "id": "ed5d6eea"
      },
      "source": [
        "## Задание 2 (6 баллов)\n"
      ]
    },
    {
      "cell_type": "markdown",
      "id": "5c2c07cf",
      "metadata": {
        "id": "5c2c07cf"
      },
      "source": [
        "На данных википедии (wikiann) обучите 2 модели:  \n",
        "1) модель в которой будут использованы предобученные эмбединги слов и несколько BILSTM слоев. \n",
        "1) модель в которой будут использованы предобученные эмбединги слов и несколько BIGRU слоев. \n",
        "\n",
        "Сравните качество по метрикам. Также придумайте несколько сложных примеров и проверьте, какие сущности определяет каждая из моделей."
      ]
    },
    {
      "cell_type": "code",
      "source": [
        "!ls "
      ],
      "metadata": {
        "colab": {
          "base_uri": "https://localhost:8080/"
        },
        "id": "jjag0kXZmtdK",
        "outputId": "2e99d8a9-a5fb-4085-eb5b-8081be42f5a3"
      },
      "id": "jjag0kXZmtdK",
      "execution_count": 97,
      "outputs": [
        {
          "output_type": "stream",
          "name": "stdout",
          "text": [
            "drive  navec_hudlit_v1_12B_500K_300d_100q.tar  sample_data\n"
          ]
        }
      ]
    },
    {
      "cell_type": "code",
      "execution_count": 98,
      "id": "fb704b1b",
      "metadata": {
        "id": "fb704b1b",
        "colab": {
          "base_uri": "https://localhost:8080/"
        },
        "outputId": "64be2f06-b3e6-49a6-b6ce-e56f67cc63d0"
      },
      "outputs": [
        {
          "output_type": "stream",
          "name": "stdout",
          "text": [
            "Requirement already satisfied: navec in /usr/local/lib/python3.7/dist-packages (0.10.0)\n",
            "Requirement already satisfied: numpy in /usr/local/lib/python3.7/dist-packages (from navec) (1.21.6)\n"
          ]
        }
      ],
      "source": [
        "!pip install navec"
      ]
    },
    {
      "cell_type": "code",
      "source": [
        "!wget https://storage.yandexcloud.net/natasha-navec/packs/navec_hudlit_v1_12B_500K_300d_100q.tar"
      ],
      "metadata": {
        "colab": {
          "base_uri": "https://localhost:8080/"
        },
        "id": "1GEx2lygobwA",
        "outputId": "e86d4c08-4d18-42c9-99e6-952847764f7f"
      },
      "id": "1GEx2lygobwA",
      "execution_count": 99,
      "outputs": [
        {
          "output_type": "stream",
          "name": "stdout",
          "text": [
            "--2022-05-22 21:20:02--  https://storage.yandexcloud.net/natasha-navec/packs/navec_hudlit_v1_12B_500K_300d_100q.tar\n",
            "Resolving storage.yandexcloud.net (storage.yandexcloud.net)... 213.180.193.243, 2a02:6b8::1d9\n",
            "Connecting to storage.yandexcloud.net (storage.yandexcloud.net)|213.180.193.243|:443... connected.\n",
            "HTTP request sent, awaiting response... 200 OK\n",
            "Length: 53012480 (51M) [application/x-tar]\n",
            "Saving to: ‘navec_hudlit_v1_12B_500K_300d_100q.tar.1’\n",
            "\n",
            "navec_hudlit_v1_12B 100%[===================>]  50.56M  18.2MB/s    in 2.8s    \n",
            "\n",
            "2022-05-22 21:20:05 (18.2 MB/s) - ‘navec_hudlit_v1_12B_500K_300d_100q.tar.1’ saved [53012480/53012480]\n",
            "\n"
          ]
        }
      ]
    },
    {
      "cell_type": "code",
      "source": [
        "!pip install slovnet"
      ],
      "metadata": {
        "colab": {
          "base_uri": "https://localhost:8080/"
        },
        "id": "jjYOTYxWqnjo",
        "outputId": "917bbaf9-2312-4337-fb14-22a933289797"
      },
      "id": "jjYOTYxWqnjo",
      "execution_count": 100,
      "outputs": [
        {
          "output_type": "stream",
          "name": "stdout",
          "text": [
            "Requirement already satisfied: slovnet in /usr/local/lib/python3.7/dist-packages (0.5.0)\n",
            "Requirement already satisfied: razdel in /usr/local/lib/python3.7/dist-packages (from slovnet) (0.5.0)\n",
            "Requirement already satisfied: navec in /usr/local/lib/python3.7/dist-packages (from slovnet) (0.10.0)\n",
            "Requirement already satisfied: numpy in /usr/local/lib/python3.7/dist-packages (from slovnet) (1.21.6)\n"
          ]
        }
      ]
    },
    {
      "cell_type": "code",
      "source": [
        "!pip install datasets"
      ],
      "metadata": {
        "id": "PGLhjZYBqo6e",
        "colab": {
          "base_uri": "https://localhost:8080/"
        },
        "outputId": "0a6a5569-828c-4ab3-e2d3-b47935febaaf"
      },
      "id": "PGLhjZYBqo6e",
      "execution_count": 101,
      "outputs": [
        {
          "output_type": "stream",
          "name": "stdout",
          "text": [
            "Requirement already satisfied: datasets in /usr/local/lib/python3.7/dist-packages (2.2.2)\n",
            "Requirement already satisfied: fsspec[http]>=2021.05.0 in /usr/local/lib/python3.7/dist-packages (from datasets) (2022.5.0)\n",
            "Requirement already satisfied: aiohttp in /usr/local/lib/python3.7/dist-packages (from datasets) (3.8.1)\n",
            "Requirement already satisfied: numpy>=1.17 in /usr/local/lib/python3.7/dist-packages (from datasets) (1.21.6)\n",
            "Requirement already satisfied: requests>=2.19.0 in /usr/local/lib/python3.7/dist-packages (from datasets) (2.23.0)\n",
            "Requirement already satisfied: pyarrow>=6.0.0 in /usr/local/lib/python3.7/dist-packages (from datasets) (6.0.1)\n",
            "Requirement already satisfied: dill<0.3.5 in /usr/local/lib/python3.7/dist-packages (from datasets) (0.3.4)\n",
            "Requirement already satisfied: pandas in /usr/local/lib/python3.7/dist-packages (from datasets) (1.3.5)\n",
            "Requirement already satisfied: packaging in /usr/local/lib/python3.7/dist-packages (from datasets) (21.3)\n",
            "Requirement already satisfied: multiprocess in /usr/local/lib/python3.7/dist-packages (from datasets) (0.70.12.2)\n",
            "Requirement already satisfied: huggingface-hub<1.0.0,>=0.1.0 in /usr/local/lib/python3.7/dist-packages (from datasets) (0.6.0)\n",
            "Requirement already satisfied: importlib-metadata in /usr/local/lib/python3.7/dist-packages (from datasets) (4.11.3)\n",
            "Requirement already satisfied: tqdm>=4.62.1 in /usr/local/lib/python3.7/dist-packages (from datasets) (4.64.0)\n",
            "Requirement already satisfied: responses<0.19 in /usr/local/lib/python3.7/dist-packages (from datasets) (0.18.0)\n",
            "Requirement already satisfied: xxhash in /usr/local/lib/python3.7/dist-packages (from datasets) (3.0.0)\n",
            "Requirement already satisfied: filelock in /usr/local/lib/python3.7/dist-packages (from huggingface-hub<1.0.0,>=0.1.0->datasets) (3.7.0)\n",
            "Requirement already satisfied: pyyaml in /usr/local/lib/python3.7/dist-packages (from huggingface-hub<1.0.0,>=0.1.0->datasets) (3.13)\n",
            "Requirement already satisfied: typing-extensions>=3.7.4.3 in /usr/local/lib/python3.7/dist-packages (from huggingface-hub<1.0.0,>=0.1.0->datasets) (4.2.0)\n",
            "Requirement already satisfied: pyparsing!=3.0.5,>=2.0.2 in /usr/local/lib/python3.7/dist-packages (from packaging->datasets) (3.0.9)\n",
            "Requirement already satisfied: idna<3,>=2.5 in /usr/local/lib/python3.7/dist-packages (from requests>=2.19.0->datasets) (2.10)\n",
            "Requirement already satisfied: chardet<4,>=3.0.2 in /usr/local/lib/python3.7/dist-packages (from requests>=2.19.0->datasets) (3.0.4)\n",
            "Requirement already satisfied: urllib3!=1.25.0,!=1.25.1,<1.26,>=1.21.1 in /usr/local/lib/python3.7/dist-packages (from requests>=2.19.0->datasets) (1.25.11)\n",
            "Requirement already satisfied: certifi>=2017.4.17 in /usr/local/lib/python3.7/dist-packages (from requests>=2.19.0->datasets) (2021.10.8)\n",
            "Requirement already satisfied: yarl<2.0,>=1.0 in /usr/local/lib/python3.7/dist-packages (from aiohttp->datasets) (1.7.2)\n",
            "Requirement already satisfied: attrs>=17.3.0 in /usr/local/lib/python3.7/dist-packages (from aiohttp->datasets) (21.4.0)\n",
            "Requirement already satisfied: multidict<7.0,>=4.5 in /usr/local/lib/python3.7/dist-packages (from aiohttp->datasets) (6.0.2)\n",
            "Requirement already satisfied: asynctest==0.13.0 in /usr/local/lib/python3.7/dist-packages (from aiohttp->datasets) (0.13.0)\n",
            "Requirement already satisfied: charset-normalizer<3.0,>=2.0 in /usr/local/lib/python3.7/dist-packages (from aiohttp->datasets) (2.0.12)\n",
            "Requirement already satisfied: aiosignal>=1.1.2 in /usr/local/lib/python3.7/dist-packages (from aiohttp->datasets) (1.2.0)\n",
            "Requirement already satisfied: async-timeout<5.0,>=4.0.0a3 in /usr/local/lib/python3.7/dist-packages (from aiohttp->datasets) (4.0.2)\n",
            "Requirement already satisfied: frozenlist>=1.1.1 in /usr/local/lib/python3.7/dist-packages (from aiohttp->datasets) (1.3.0)\n",
            "Requirement already satisfied: zipp>=0.5 in /usr/local/lib/python3.7/dist-packages (from importlib-metadata->datasets) (3.8.0)\n",
            "Requirement already satisfied: python-dateutil>=2.7.3 in /usr/local/lib/python3.7/dist-packages (from pandas->datasets) (2.8.2)\n",
            "Requirement already satisfied: pytz>=2017.3 in /usr/local/lib/python3.7/dist-packages (from pandas->datasets) (2022.1)\n",
            "Requirement already satisfied: six>=1.5 in /usr/local/lib/python3.7/dist-packages (from python-dateutil>=2.7.3->pandas->datasets) (1.15.0)\n"
          ]
        }
      ]
    },
    {
      "cell_type": "code",
      "source": [
        "from datasets import load_dataset\n",
        "dataset = load_dataset(\"wikiann\", 'ru')"
      ],
      "metadata": {
        "colab": {
          "base_uri": "https://localhost:8080/",
          "height": 67,
          "referenced_widgets": [
            "537103a2ac874f23a6bd949087f76848",
            "d9b2808649c746a78228a3885d91b4e9",
            "8c1159ec97a4461abd3cdd9cbce2124b",
            "224819b62fda47f8a12461f967bb0926",
            "87c33bf0b5c8496bbbdecf8d4512623b",
            "53e09a0a1ccb4fab9e3fa9720342cd16",
            "46a9c5eddfab4f3cb29c64e67b6eb2fc",
            "8c148386b1de492c85a1a82cf4ff62ca",
            "f9adbea920864b76bcf288f7deec4c4e",
            "6b85e8bcf18044da811355989fe6decf",
            "7c9af6410b934f80a5cd9ff89e50f5ca"
          ]
        },
        "id": "WvUhKmdQvSi8",
        "outputId": "26b169c3-bfe8-4d2f-d2df-f85ff6f86548"
      },
      "id": "WvUhKmdQvSi8",
      "execution_count": 102,
      "outputs": [
        {
          "output_type": "stream",
          "name": "stderr",
          "text": [
            "Reusing dataset wikiann (/root/.cache/huggingface/datasets/wikiann/ru/1.1.0/4bfd4fe4468ab78bb6e096968f61fab7a888f44f9d3371c2f3fea7e74a5a354e)\n"
          ]
        },
        {
          "output_type": "display_data",
          "data": {
            "text/plain": [
              "  0%|          | 0/3 [00:00<?, ?it/s]"
            ],
            "application/vnd.jupyter.widget-view+json": {
              "version_major": 2,
              "version_minor": 0,
              "model_id": "537103a2ac874f23a6bd949087f76848"
            }
          },
          "metadata": {}
        }
      ]
    },
    {
      "cell_type": "code",
      "source": [
        "vocab = Counter()\n",
        "\n",
        "for sent in dataset['train']['tokens']:\n",
        "    vocab.update([x.lower() for x in sent])\n",
        "\n",
        "word2id = {'PAD':0, 'UNK':1}\n",
        "\n",
        "for word in vocab:\n",
        "    word2id[word] = len(word2id)\n",
        "\n",
        "id2word = {i:word for word, i in word2id.items()}\n",
        "\n",
        "X = []\n",
        "\n",
        "for sent in dataset['train']['tokens']:\n",
        "    tokens = [w.lower() for w in sent]\n",
        "    ids = [word2id.get(token, 1) for token in tokens]\n",
        "    X.append(ids)\n",
        "\n",
        "X_test = []\n",
        "\n",
        "for sent in dataset['test']['tokens']:\n",
        "    tokens = [w.lower() for w in sent]\n",
        "    ids = [word2id.get(token, 1) for token in tokens]\n",
        "    X_test.append(ids)\n",
        "\n",
        "MAX_LEN = max(len(x) for x in X)\n",
        "\n",
        "# паддинг\n",
        "X = tf.keras.preprocessing.sequence.pad_sequences(X, maxlen=MAX_LEN, padding='post')\n",
        "X_test = tf.keras.preprocessing.sequence.pad_sequences(X_test, maxlen=MAX_LEN, padding='post')\n",
        "\n",
        "id2labels = {0:'O', 1:'B-PER', 2:'I-PER', 3:'B-ORG', 4:'I-ORG', 5: 'B-LOC', 6:'I-LOC', 7:'PAD'}\n",
        "label2id = {v:k for k,v in id2labels.items()}\n",
        "\n",
        "y = tf.keras.preprocessing.sequence.pad_sequences(dataset['train']['ner_tags'], value=7,\n",
        "                                                  maxlen=MAX_LEN,  padding='post')\n",
        "y_test = tf.keras.preprocessing.sequence.pad_sequences(dataset['test']['ner_tags'], value=7,\n",
        "                                                       maxlen=MAX_LEN,  padding='post')"
      ],
      "metadata": {
        "id": "RGsw2K55vdgw"
      },
      "id": "RGsw2K55vdgw",
      "execution_count": 103,
      "outputs": []
    },
    {
      "cell_type": "code",
      "execution_count": 104,
      "id": "24b4e4aa",
      "metadata": {
        "id": "24b4e4aa"
      },
      "outputs": [],
      "source": [
        "import os\n",
        "from navec import Navec\n",
        "from slovnet.model.emb import NavecEmbedding\n",
        "\n",
        "path = 'navec_hudlit_v1_12B_500K_300d_100q.tar'\n",
        "navec = Navec.load(os.path.join('/content/', path))\n",
        "emb = NavecEmbedding(navec)"
      ]
    },
    {
      "cell_type": "code",
      "source": [
        ""
      ],
      "metadata": {
        "id": "s5G9GQMjBKGX"
      },
      "id": "s5G9GQMjBKGX",
      "execution_count": 104,
      "outputs": []
    },
    {
      "cell_type": "code",
      "source": [
        "weights = np.zeros((len(word2id), 300))\n",
        "\n",
        "for word, id in word2id.items():\n",
        "  if word != 'PAD':\n",
        "    try:\n",
        "      weights[id] = emb(np.asarray(navec.vocab[id2word[id]]))\n",
        "    except KeyError:\n",
        "      weights[id] = navec.vocab['<unk>']\n",
        " "
      ],
      "metadata": {
        "id": "7Tmnl3fqvDW2"
      },
      "id": "7Tmnl3fqvDW2",
      "execution_count": 105,
      "outputs": []
    },
    {
      "cell_type": "code",
      "source": [
        "weights"
      ],
      "metadata": {
        "id": "iUCyFI6loVlJ",
        "colab": {
          "base_uri": "https://localhost:8080/"
        },
        "outputId": "8e771923-aea6-4ce3-aacf-20fd48ee7033"
      },
      "id": "iUCyFI6loVlJ",
      "execution_count": 106,
      "outputs": [
        {
          "output_type": "execute_result",
          "data": {
            "text/plain": [
              "array([[ 0.00000000e+00,  0.00000000e+00,  0.00000000e+00, ...,\n",
              "         0.00000000e+00,  0.00000000e+00,  0.00000000e+00],\n",
              "       [ 5.00000000e+05,  5.00000000e+05,  5.00000000e+05, ...,\n",
              "         5.00000000e+05,  5.00000000e+05,  5.00000000e+05],\n",
              "       [-3.37472856e-01,  5.52584112e-01,  4.55856115e-01, ...,\n",
              "        -9.18868408e-02, -6.79565370e-02, -6.04499280e-01],\n",
              "       ...,\n",
              "       [ 5.00000000e+05,  5.00000000e+05,  5.00000000e+05, ...,\n",
              "         5.00000000e+05,  5.00000000e+05,  5.00000000e+05],\n",
              "       [ 5.00000000e+05,  5.00000000e+05,  5.00000000e+05, ...,\n",
              "         5.00000000e+05,  5.00000000e+05,  5.00000000e+05],\n",
              "       [ 5.00000000e+05,  5.00000000e+05,  5.00000000e+05, ...,\n",
              "         5.00000000e+05,  5.00000000e+05,  5.00000000e+05]])"
            ]
          },
          "metadata": {},
          "execution_count": 106
        }
      ]
    },
    {
      "cell_type": "code",
      "source": [
        "inputs = tf.keras.layers.Input(shape=(MAX_LEN,))\n",
        "embeddings = tf.keras.layers.Embedding(input_dim=len(word2id), output_dim=300, \n",
        "                                       trainable=False,\n",
        "                                       weights=[weights])(inputs, )\n",
        "\n",
        "bilstm1 = tf.keras.layers.Bidirectional(tf.keras.layers.LSTM(128, return_sequences=True))(embeddings)\n",
        "bilstm2 = tf.keras.layers.Bidirectional(tf.keras.layers.LSTM(128, return_sequences=True))(bilstm1)\n",
        "bilstm3 = tf.keras.layers.Bidirectional(tf.keras.layers.LSTM(128, return_sequences=True))(bilstm2)\n",
        "bilstm4 = tf.keras.layers.Bidirectional(tf.keras.layers.LSTM(128, return_sequences=True))(bilstm3)\n",
        "bilstm5 = tf.keras.layers.Bidirectional(tf.keras.layers.LSTM(128, return_sequences=True))(bilstm4)\n",
        "\n",
        "outputs = tf.keras.layers.Dense(len(label2id), activation='softmax')(bilstm5)\n",
        "\n",
        "bilstm_model = tf.keras.Model(inputs=inputs, outputs=outputs)\n",
        "bilstm_model.compile(optimizer='adam',\n",
        "              loss='sparse_categorical_crossentropy', \n",
        "             metrics=['accuracy'])\n"
      ],
      "metadata": {
        "id": "XpzlIn4n8n9T"
      },
      "id": "XpzlIn4n8n9T",
      "execution_count": 107,
      "outputs": []
    },
    {
      "cell_type": "code",
      "execution_count": 108,
      "id": "8035db14",
      "metadata": {
        "id": "8035db14",
        "colab": {
          "base_uri": "https://localhost:8080/",
          "height": 492
        },
        "outputId": "ca9e1467-e984-4667-c1a3-c8eb30ece662"
      },
      "outputs": [
        {
          "output_type": "stream",
          "name": "stdout",
          "text": [
            "Epoch 1/5\n",
            "157/157 [==============================] - 35s 84ms/step - loss: 0.1983 - accuracy: 0.9418 - val_loss: 0.1276 - val_accuracy: 0.9582\n",
            "Epoch 2/5\n",
            "157/157 [==============================] - 10s 65ms/step - loss: 0.1053 - accuracy: 0.9650 - val_loss: 0.0927 - val_accuracy: 0.9694\n",
            "Epoch 3/5\n",
            "157/157 [==============================] - 10s 66ms/step - loss: 0.0705 - accuracy: 0.9777 - val_loss: 0.0695 - val_accuracy: 0.9785\n",
            "Epoch 4/5\n",
            "157/157 [==============================] - 10s 65ms/step - loss: 0.0519 - accuracy: 0.9839 - val_loss: 0.0603 - val_accuracy: 0.9808\n",
            "Epoch 5/5\n",
            "157/157 [==============================] - 10s 65ms/step - loss: 0.0441 - accuracy: 0.9862 - val_loss: 0.0563 - val_accuracy: 0.9819\n",
            "dict_keys(['loss', 'accuracy', 'val_loss', 'val_accuracy'])\n"
          ]
        },
        {
          "output_type": "display_data",
          "data": {
            "text/plain": [
              "<Figure size 432x288 with 1 Axes>"
            ],
            "image/png": "[encoded data removed]"
          },
          "metadata": {
            "needs_background": "light"
          }
        }
      ],
      "source": [
        "bilstm_model.fit(X, y, \n",
        "          validation_data=(X_test, y_test),\n",
        "          batch_size=128,\n",
        "         epochs=5)\n",
        "\n",
        "print(bilstm_model.history.history.keys())\n",
        "plt.plot(bilstm_model.history.history['accuracy'])\n",
        "plt.plot(bilstm_model.history.history['val_accuracy'])\n",
        "plt.title('model acc')\n",
        "plt.ylabel('accuracy')\n",
        "plt.xlabel('epoch')\n",
        "plt.legend(['train', 'val'], loc='upper left')\n",
        "plt.show()"
      ]
    },
    {
      "cell_type": "code",
      "source": [
        "import re\n",
        "\n",
        "def tokenize(text, word2id):\n",
        "    # токенизирует и переводит в индексы\n",
        "    tokens = re.findall('\\w+|[^\\w\\s]+', text)\n",
        "    ids = [word2id.get(token.lower(), 1) for token in tokens]\n",
        "    return tokens, ids\n",
        "\n",
        "def pred2tags(pred, id2label, length):\n",
        "    # декодирует индексы в части речи\n",
        "    # length нужно чтобы откидывать паддинги или некорректные предсказания\n",
        "    pred = pred.argmax(2)[0, :length]\n",
        "    labels = [id2label[l] for l in pred]\n",
        "    return labels\n",
        "\n",
        "def label_seq(text, word2id, id2label, max_len, model):\n",
        "    tokens, ids = tokenize(text, word2id)\n",
        "    pred = model.predict(tf.keras.preprocessing.sequence.pad_sequences([ids], \n",
        "                                                                       maxlen=max_len, \n",
        "                                                                       padding='post'))\n",
        "    labels = pred2tags(pred, id2label, len(ids))\n",
        "    \n",
        "    return list(zip(tokens, labels))"
      ],
      "metadata": {
        "id": "VMIPB5impoEk"
      },
      "id": "VMIPB5impoEk",
      "execution_count": 109,
      "outputs": []
    },
    {
      "cell_type": "code",
      "source": [
        "label_seq('В Питер никогда волк уезжать жить красиво в доме на березовом саду не хотел', word2id, id2labels, MAX_LEN, bilstm_model)"
      ],
      "metadata": {
        "colab": {
          "base_uri": "https://localhost:8080/"
        },
        "id": "MnqVvpNw_AQ1",
        "outputId": "e4bd8c42-1592-4f3d-8734-a15070e23e76"
      },
      "id": "MnqVvpNw_AQ1",
      "execution_count": 116,
      "outputs": [
        {
          "output_type": "execute_result",
          "data": {
            "text/plain": [
              "[('В', 'O'),\n",
              " ('Питер', 'B-LOC'),\n",
              " ('никогда', 'O'),\n",
              " ('волк', 'O'),\n",
              " ('уезжать', 'O'),\n",
              " ('жить', 'O'),\n",
              " ('красиво', 'O'),\n",
              " ('в', 'O'),\n",
              " ('доме', 'O'),\n",
              " ('на', 'O'),\n",
              " ('березовом', 'B-LOC'),\n",
              " ('саду', 'I-LOC'),\n",
              " ('не', 'O'),\n",
              " ('хотел', 'O')]"
            ]
          },
          "metadata": {},
          "execution_count": 116
        }
      ]
    },
    {
      "cell_type": "code",
      "source": [
        "label_seq('Ислам вышел из метро на Киевской в сторону Кутузовского', word2id, id2labels, MAX_LEN, bilstm_model)"
      ],
      "metadata": {
        "colab": {
          "base_uri": "https://localhost:8080/"
        },
        "id": "4jcGo8C2rPpX",
        "outputId": "9bfad752-9e40-40c6-ac82-2292486d023c"
      },
      "id": "4jcGo8C2rPpX",
      "execution_count": 118,
      "outputs": [
        {
          "output_type": "execute_result",
          "data": {
            "text/plain": [
              "[('Ислам', 'O'),\n",
              " ('вышел', 'O'),\n",
              " ('из', 'O'),\n",
              " ('метро', 'B-LOC'),\n",
              " ('на', 'O'),\n",
              " ('Киевской', 'B-LOC'),\n",
              " ('в', 'O'),\n",
              " ('сторону', 'O'),\n",
              " ('Кутузовского', 'O')]"
            ]
          },
          "metadata": {},
          "execution_count": 118
        }
      ]
    },
    {
      "cell_type": "code",
      "source": [
        "inputs = tf.keras.layers.Input(shape=(MAX_LEN,))\n",
        "embeddings = tf.keras.layers.Embedding(input_dim=len(word2id), output_dim=300, \n",
        "                                       trainable=False,\n",
        "                                       weights=[weights])(inputs, )\n",
        "\n",
        "bigru1 = tf.keras.layers.Bidirectional(tf.keras.layers.GRU(128, return_sequences=True))(embeddings)\n",
        "bigru2 = tf.keras.layers.Bidirectional(tf.keras.layers.GRU(128, return_sequences=True))(bigru1)\n",
        "bigru3 = tf.keras.layers.Bidirectional(tf.keras.layers.GRU(128, return_sequences=True))(bigru2)\n",
        "bigru4 = tf.keras.layers.Bidirectional(tf.keras.layers.GRU(128, return_sequences=True))(bigru3)\n",
        "bigru5 = tf.keras.layers.Bidirectional(tf.keras.layers.GRU(128, return_sequences=True))(bigru4)\n",
        "\n",
        "outputs = tf.keras.layers.Dense(len(label2id), activation='softmax')(bigru5)\n",
        "\n",
        "bigru_model = tf.keras.Model(inputs=inputs, outputs=outputs)\n",
        "bigru_model.compile(optimizer='adam',\n",
        "              loss='sparse_categorical_crossentropy', \n",
        "             metrics=['accuracy'])"
      ],
      "metadata": {
        "id": "Lmw_NAA5_FNw"
      },
      "id": "Lmw_NAA5_FNw",
      "execution_count": 111,
      "outputs": []
    },
    {
      "cell_type": "code",
      "source": [
        "bigru_model.fit(X, y, \n",
        "          validation_data=(X_test, y_test),\n",
        "          batch_size=128,\n",
        "         epochs=5)\n",
        "\n",
        "print(bigru_model.history.history.keys())\n",
        "plt.plot(bigru_model.history.history['accuracy'])\n",
        "plt.plot(bigru_model.history.history['val_accuracy'])\n",
        "plt.title('model acc')\n",
        "plt.ylabel('accuracy')\n",
        "plt.xlabel('epoch')\n",
        "plt.legend(['train', 'val'], loc='upper left')\n",
        "plt.show()"
      ],
      "metadata": {
        "colab": {
          "base_uri": "https://localhost:8080/",
          "height": 492
        },
        "id": "HwJtr_wlKWcP",
        "outputId": "4c7fec52-746d-4e7e-8331-94783336b3e6"
      },
      "id": "HwJtr_wlKWcP",
      "execution_count": 112,
      "outputs": [
        {
          "output_type": "stream",
          "name": "stdout",
          "text": [
            "Epoch 1/5\n",
            "157/157 [==============================] - 23s 72ms/step - loss: 0.1680 - accuracy: 0.9549 - val_loss: 0.0895 - val_accuracy: 0.9723\n",
            "Epoch 2/5\n",
            "157/157 [==============================] - 9s 55ms/step - loss: 0.0628 - accuracy: 0.9803 - val_loss: 0.0635 - val_accuracy: 0.9796\n",
            "Epoch 3/5\n",
            "157/157 [==============================] - 9s 56ms/step - loss: 0.0504 - accuracy: 0.9841 - val_loss: 0.0612 - val_accuracy: 0.9806\n",
            "Epoch 4/5\n",
            "157/157 [==============================] - 9s 56ms/step - loss: 0.0441 - accuracy: 0.9860 - val_loss: 0.0570 - val_accuracy: 0.9827\n",
            "Epoch 5/5\n",
            "157/157 [==============================] - 9s 57ms/step - loss: 0.0389 - accuracy: 0.9876 - val_loss: 0.0533 - val_accuracy: 0.9830\n",
            "dict_keys(['loss', 'accuracy', 'val_loss', 'val_accuracy'])\n"
          ]
        },
        {
          "output_type": "display_data",
          "data": {
            "text/plain": [
              "<Figure size 432x288 with 1 Axes>"
            ],
            "image/png": "[encoded data removed]"
          },
          "metadata": {
            "needs_background": "light"
          }
        }
      ]
    },
    {
      "cell_type": "code",
      "source": [
        "label_seq('В Питер никогда волк уезжать жить красиво в доме на березовом саду не хотел', word2id, id2labels, MAX_LEN, bigru_model)"
      ],
      "metadata": {
        "colab": {
          "base_uri": "https://localhost:8080/"
        },
        "id": "PF4lWqTBKrtj",
        "outputId": "77dc88e6-6991-4216-d1b5-540125f9c3bc"
      },
      "id": "PF4lWqTBKrtj",
      "execution_count": 115,
      "outputs": [
        {
          "output_type": "execute_result",
          "data": {
            "text/plain": [
              "[('В', 'O'),\n",
              " ('Питер', 'B-PER'),\n",
              " ('никогда', 'O'),\n",
              " ('волк', 'O'),\n",
              " ('уезжать', 'O'),\n",
              " ('жить', 'O'),\n",
              " ('красиво', 'O'),\n",
              " ('в', 'O'),\n",
              " ('доме', 'O'),\n",
              " ('на', 'O'),\n",
              " ('березовом', 'B-ORG'),\n",
              " ('саду', 'I-ORG'),\n",
              " ('не', 'O'),\n",
              " ('хотел', 'O')]"
            ]
          },
          "metadata": {},
          "execution_count": 115
        }
      ]
    },
    {
      "cell_type": "code",
      "source": [
        "label_seq('Ислам вышел из метро на Киевской в сторону Кутузовского', word2id, id2labels, MAX_LEN, bigru_model)"
      ],
      "metadata": {
        "id": "JT5BfrpuNC9J",
        "colab": {
          "base_uri": "https://localhost:8080/"
        },
        "outputId": "002e888e-eff3-4cb9-e0fb-2d99ab664d42"
      },
      "id": "JT5BfrpuNC9J",
      "execution_count": 120,
      "outputs": [
        {
          "output_type": "execute_result",
          "data": {
            "text/plain": [
              "[('Ислам', 'O'),\n",
              " ('вышел', 'O'),\n",
              " ('из', 'O'),\n",
              " ('метро', 'B-ORG'),\n",
              " ('на', 'O'),\n",
              " ('Киевской', 'B-LOC'),\n",
              " ('в', 'I-ORG'),\n",
              " ('сторону', 'O'),\n",
              " ('Кутузовского', 'O')]"
            ]
          },
          "metadata": {},
          "execution_count": 120
        }
      ]
    },
    {
      "cell_type": "markdown",
      "source": [
        "Обе модели работают очень плохо, но есть подозрение, что все дело в эмбеддингах."
      ],
      "metadata": {
        "id": "7YlvazAwsvT4"
      },
      "id": "7YlvazAwsvT4"
    },
    {
      "cell_type": "code",
      "source": [
        ""
      ],
      "metadata": {
        "id": "1DVOTnyis-4X"
      },
      "id": "1DVOTnyis-4X",
      "execution_count": null,
      "outputs": []
    }
  ],
  "metadata": {
    "kernelspec": {
      "display_name": "Python 3 (ipykernel)",
      "language": "python",
      "name": "python3"
    },
    "language_info": {
      "codemirror_mode": {
        "name": "ipython",
        "version": 3
      },
      "file_extension": ".py",
      "mimetype": "text/x-python",
      "name": "python",
      "nbconvert_exporter": "python",
      "pygments_lexer": "ipython3",
      "version": "3.8.12"
    },
    "colab": {
      "name": "ДЗ RNN",
      "provenance": [],
      "collapsed_sections": [],
      "include_colab_link": true
    },
    "accelerator": "GPU",
    "widgets": {
      "application/vnd.jupyter.widget-state+json": {
        "537103a2ac874f23a6bd949087f76848": {
          "model_module": "@jupyter-widgets/controls",
          "model_name": "HBoxModel",
          "model_module_version": "1.5.0",
          "state": {
            "_dom_classes": [],
            "_model_module": "@jupyter-widgets/controls",
            "_model_module_version": "1.5.0",
            "_model_name": "HBoxModel",
            "_view_count": null,
            "_view_module": "@jupyter-widgets/controls",
            "_view_module_version": "1.5.0",
            "_view_name": "HBoxView",
            "box_style": "",
            "children": [
              "IPY_MODEL_d9b2808649c746a78228a3885d91b4e9",
              "IPY_MODEL_8c1159ec97a4461abd3cdd9cbce2124b",
              "IPY_MODEL_224819b62fda47f8a12461f967bb0926"
            ],
            "layout": "IPY_MODEL_87c33bf0b5c8496bbbdecf8d4512623b"
          }
        },
        "d9b2808649c746a78228a3885d91b4e9": {
          "model_module": "@jupyter-widgets/controls",
          "model_name": "HTMLModel",
          "model_module_version": "1.5.0",
          "state": {
            "_dom_classes": [],
            "_model_module": "@jupyter-widgets/controls",
            "_model_module_version": "1.5.0",
            "_model_name": "HTMLModel",
            "_view_count": null,
            "_view_module": "@jupyter-widgets/controls",
            "_view_module_version": "1.5.0",
            "_view_name": "HTMLView",
            "description": "",
            "description_tooltip": null,
            "layout": "IPY_MODEL_53e09a0a1ccb4fab9e3fa9720342cd16",
            "placeholder": "​",
            "style": "IPY_MODEL_46a9c5eddfab4f3cb29c64e67b6eb2fc",
            "value": "100%"
          }
        },
        "8c1159ec97a4461abd3cdd9cbce2124b": {
          "model_module": "@jupyter-widgets/controls",
          "model_name": "FloatProgressModel",
          "model_module_version": "1.5.0",
          "state": {
            "_dom_classes": [],
            "_model_module": "@jupyter-widgets/controls",
            "_model_module_version": "1.5.0",
            "_model_name": "FloatProgressModel",
            "_view_count": null,
            "_view_module": "@jupyter-widgets/controls",
            "_view_module_version": "1.5.0",
            "_view_name": "ProgressView",
            "bar_style": "success",
            "description": "",
            "description_tooltip": null,
            "layout": "IPY_MODEL_8c148386b1de492c85a1a82cf4ff62ca",
            "max": 3,
            "min": 0,
            "orientation": "horizontal",
            "style": "IPY_MODEL_f9adbea920864b76bcf288f7deec4c4e",
            "value": 3
          }
        },
        "224819b62fda47f8a12461f967bb0926": {
          "model_module": "@jupyter-widgets/controls",
          "model_name": "HTMLModel",
          "model_module_version": "1.5.0",
          "state": {
            "_dom_classes": [],
            "_model_module": "@jupyter-widgets/controls",
            "_model_module_version": "1.5.0",
            "_model_name": "HTMLModel",
            "_view_count": null,
            "_view_module": "@jupyter-widgets/controls",
            "_view_module_version": "1.5.0",
            "_view_name": "HTMLView",
            "description": "",
            "description_tooltip": null,
            "layout": "IPY_MODEL_6b85e8bcf18044da811355989fe6decf",
            "placeholder": "​",
            "style": "IPY_MODEL_7c9af6410b934f80a5cd9ff89e50f5ca",
            "value": " 3/3 [00:00&lt;00:00, 43.42it/s]"
          }
        },
        "87c33bf0b5c8496bbbdecf8d4512623b": {
          "model_module": "@jupyter-widgets/base",
          "model_name": "LayoutModel",
          "model_module_version": "1.2.0",
          "state": {
            "_model_module": "@jupyter-widgets/base",
            "_model_module_version": "1.2.0",
            "_model_name": "LayoutModel",
            "_view_count": null,
            "_view_module": "@jupyter-widgets/base",
            "_view_module_version": "1.2.0",
            "_view_name": "LayoutView",
            "align_content": null,
            "align_items": null,
            "align_self": null,
            "border": null,
            "bottom": null,
            "display": null,
            "flex": null,
            "flex_flow": null,
            "grid_area": null,
            "grid_auto_columns": null,
            "grid_auto_flow": null,
            "grid_auto_rows": null,
            "grid_column": null,
            "grid_gap": null,
            "grid_row": null,
            "grid_template_areas": null,
            "grid_template_columns": null,
            "grid_template_rows": null,
            "height": null,
            "justify_content": null,
            "justify_items": null,
            "left": null,
            "margin": null,
            "max_height": null,
            "max_width": null,
            "min_height": null,
            "min_width": null,
            "object_fit": null,
            "object_position": null,
            "order": null,
            "overflow": null,
            "overflow_x": null,
            "overflow_y": null,
            "padding": null,
            "right": null,
            "top": null,
            "visibility": null,
            "width": null
          }
        },
        "53e09a0a1ccb4fab9e3fa9720342cd16": {
          "model_module": "@jupyter-widgets/base",
          "model_name": "LayoutModel",
          "model_module_version": "1.2.0",
          "state": {
            "_model_module": "@jupyter-widgets/base",
            "_model_module_version": "1.2.0",
            "_model_name": "LayoutModel",
            "_view_count": null,
            "_view_module": "@jupyter-widgets/base",
            "_view_module_version": "1.2.0",
            "_view_name": "LayoutView",
            "align_content": null,
            "align_items": null,
            "align_self": null,
            "border": null,
            "bottom": null,
            "display": null,
            "flex": null,
            "flex_flow": null,
            "grid_area": null,
            "grid_auto_columns": null,
            "grid_auto_flow": null,
            "grid_auto_rows": null,
            "grid_column": null,
            "grid_gap": null,
            "grid_row": null,
            "grid_template_areas": null,
            "grid_template_columns": null,
            "grid_template_rows": null,
            "height": null,
            "justify_content": null,
            "justify_items": null,
            "left": null,
            "margin": null,
            "max_height": null,
            "max_width": null,
            "min_height": null,
            "min_width": null,
            "object_fit": null,
            "object_position": null,
            "order": null,
            "overflow": null,
            "overflow_x": null,
            "overflow_y": null,
            "padding": null,
            "right": null,
            "top": null,
            "visibility": null,
            "width": null
          }
        },
        "46a9c5eddfab4f3cb29c64e67b6eb2fc": {
          "model_module": "@jupyter-widgets/controls",
          "model_name": "DescriptionStyleModel",
          "model_module_version": "1.5.0",
          "state": {
            "_model_module": "@jupyter-widgets/controls",
            "_model_module_version": "1.5.0",
            "_model_name": "DescriptionStyleModel",
            "_view_count": null,
            "_view_module": "@jupyter-widgets/base",
            "_view_module_version": "1.2.0",
            "_view_name": "StyleView",
            "description_width": ""
          }
        },
        "8c148386b1de492c85a1a82cf4ff62ca": {
          "model_module": "@jupyter-widgets/base",
          "model_name": "LayoutModel",
          "model_module_version": "1.2.0",
          "state": {
            "_model_module": "@jupyter-widgets/base",
            "_model_module_version": "1.2.0",
            "_model_name": "LayoutModel",
            "_view_count": null,
            "_view_module": "@jupyter-widgets/base",
            "_view_module_version": "1.2.0",
            "_view_name": "LayoutView",
            "align_content": null,
            "align_items": null,
            "align_self": null,
            "border": null,
            "bottom": null,
            "display": null,
            "flex": null,
            "flex_flow": null,
            "grid_area": null,
            "grid_auto_columns": null,
            "grid_auto_flow": null,
            "grid_auto_rows": null,
            "grid_column": null,
            "grid_gap": null,
            "grid_row": null,
            "grid_template_areas": null,
            "grid_template_columns": null,
            "grid_template_rows": null,
            "height": null,
            "justify_content": null,
            "justify_items": null,
            "left": null,
            "margin": null,
            "max_height": null,
            "max_width": null,
            "min_height": null,
            "min_width": null,
            "object_fit": null,
            "object_position": null,
            "order": null,
            "overflow": null,
            "overflow_x": null,
            "overflow_y": null,
            "padding": null,
            "right": null,
            "top": null,
            "visibility": null,
            "width": null
          }
        },
        "f9adbea920864b76bcf288f7deec4c4e": {
          "model_module": "@jupyter-widgets/controls",
          "model_name": "ProgressStyleModel",
          "model_module_version": "1.5.0",
          "state": {
            "_model_module": "@jupyter-widgets/controls",
            "_model_module_version": "1.5.0",
            "_model_name": "ProgressStyleModel",
            "_view_count": null,
            "_view_module": "@jupyter-widgets/base",
            "_view_module_version": "1.2.0",
            "_view_name": "StyleView",
            "bar_color": null,
            "description_width": ""
          }
        },
        "6b85e8bcf18044da811355989fe6decf": {
          "model_module": "@jupyter-widgets/base",
          "model_name": "LayoutModel",
          "model_module_version": "1.2.0",
          "state": {
            "_model_module": "@jupyter-widgets/base",
            "_model_module_version": "1.2.0",
            "_model_name": "LayoutModel",
            "_view_count": null,
            "_view_module": "@jupyter-widgets/base",
            "_view_module_version": "1.2.0",
            "_view_name": "LayoutView",
            "align_content": null,
            "align_items": null,
            "align_self": null,
            "border": null,
            "bottom": null,
            "display": null,
            "flex": null,
            "flex_flow": null,
            "grid_area": null,
            "grid_auto_columns": null,
            "grid_auto_flow": null,
            "grid_auto_rows": null,
            "grid_column": null,
            "grid_gap": null,
            "grid_row": null,
            "grid_template_areas": null,
            "grid_template_columns": null,
            "grid_template_rows": null,
            "height": null,
            "justify_content": null,
            "justify_items": null,
            "left": null,
            "margin": null,
            "max_height": null,
            "max_width": null,
            "min_height": null,
            "min_width": null,
            "object_fit": null,
            "object_position": null,
            "order": null,
            "overflow": null,
            "overflow_x": null,
            "overflow_y": null,
            "padding": null,
            "right": null,
            "top": null,
            "visibility": null,
            "width": null
          }
        },
        "7c9af6410b934f80a5cd9ff89e50f5ca": {
          "model_module": "@jupyter-widgets/controls",
          "model_name": "DescriptionStyleModel",
          "model_module_version": "1.5.0",
          "state": {
            "_model_module": "@jupyter-widgets/controls",
            "_model_module_version": "1.5.0",
            "_model_name": "DescriptionStyleModel",
            "_view_count": null,
            "_view_module": "@jupyter-widgets/base",
            "_view_module_version": "1.2.0",
            "_view_name": "StyleView",
            "description_width": ""
          }
        }
      }
    }
  },
  "nbformat": 4,
  "nbformat_minor": 5
}