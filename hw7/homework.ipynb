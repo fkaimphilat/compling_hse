{
 "cells": [
  {
   "cell_type": "markdown",
   "id": "d0ca41e2",
   "metadata": {},
   "source": [
    "# Домашнее задание № 7"
   ]
  },
  {
   "cell_type": "markdown",
   "id": "6f0588a6",
   "metadata": {},
   "source": [
    "### Задание 1 Реализовать алгоритм Леска и проверить его на реальном датасете (8 баллов)"
   ]
  },
  {
   "cell_type": "markdown",
   "id": "d6a5283f",
   "metadata": {},
   "source": [
    "Ворднет можно использовать для дизамбигуации. Самый простой алгоритм дизамбигуации - алгоритм Леска. В нём нужное значение слова находится через пересечение слов контекста, в котором употреблено это слово, с определениями значений слова из ворднета. Значение с максимальным пересечением - нужное."
   ]
  },
  {
   "cell_type": "markdown",
   "id": "f6f082cd",
   "metadata": {},
   "source": [
    "**Реализация**"
   ]
  },
  {
   "cell_type": "code",
   "execution_count": 1,
   "id": "3313798f",
   "metadata": {},
   "outputs": [
    {
     "name": "stderr",
     "output_type": "stream",
     "text": [
      "[nltk_data] Downloading package wordnet to\n",
      "[nltk_data]     C:\\Users\\imphi\\AppData\\Roaming\\nltk_data...\n",
      "[nltk_data]   Package wordnet is already up-to-date!\n"
     ]
    }
   ],
   "source": [
    "import nltk\n",
    "nltk.download('wordnet')\n",
    "from nltk.corpus import wordnet as wn"
   ]
  },
  {
   "cell_type": "code",
   "execution_count": 2,
   "id": "668e6803",
   "metadata": {},
   "outputs": [],
   "source": [
    "# функция-алгоритм Леска\n",
    "def lesk( word, sentence ):\n",
    "    \n",
    "    lod = dict() #словарь в котором хранится индекс значения и кол-во пересечений\n",
    "    maxoverlap = 0 #кол-во пересечений\n",
    "    \n",
    "    for indx, synset in enumerate(wn.synsets(word)):\n",
    "        for d_word in synset.definition().split():\n",
    "            for c_word in sentence:\n",
    "                if c_word == d_word:\n",
    "                    \n",
    "                    maxoverlap += 1\n",
    "                    \n",
    "        lod[indx] = maxoverlap\n",
    "        maxoverlap = 0\n",
    "    \n",
    "    global bestsense\n",
    "    bestsense = max(lod, key=lod.get) #достаю key-индекс синсета с наибольшим value-пересечением \n",
    "    \n",
    "    return bestsense"
   ]
  },
  {
   "cell_type": "code",
   "execution_count": 3,
   "id": "67bc4d08",
   "metadata": {},
   "outputs": [
    {
     "data": {
      "text/plain": [
       "1"
      ]
     },
     "execution_count": 3,
     "metadata": {},
     "output_type": "execute_result"
    }
   ],
   "source": [
    "# на вход НУЖНО подавать элементы результата работы функции get_words_in_context, однако в действительности мы не писали её\n",
    "# здесь используется только дефолтный для данного ноутбука пример, где контекст совпадает с одним из определений\n",
    "lesk('day', 'some point or period in time'.split())"
   ]
  },
  {
   "cell_type": "markdown",
   "id": "14f3bd8a",
   "metadata": {},
   "source": [
    "Посмотрим на определения самостоятельно, чтобы удостовериться в том, что алгоритм не ошибся."
   ]
  },
  {
   "cell_type": "code",
   "execution_count": 4,
   "id": "a36e2aba",
   "metadata": {},
   "outputs": [
    {
     "name": "stdout",
     "output_type": "stream",
     "text": [
      "day - time for Earth to make a complete rotation on its axis\n",
      "day - some point or period in time\n",
      "day - a day assigned to a particular purpose or observance\n",
      "day - the time after sunrise and before sunset while it is light outside\n",
      "day - the recurring hours when you are not sleeping (especially those when you are working)\n",
      "day - an era of existence or influence\n",
      "day - the period of time taken by a particular planet (e.g. Mars) to make a complete rotation on its axis\n",
      "day - the time for one complete rotation of the earth relative to a particular star, about 4 minutes shorter than a mean solar day\n",
      "day - a period of opportunity\n",
      "day - United States writer best known for his autobiographical works (1874-1935)\n"
     ]
    }
   ],
   "source": [
    "word = 'day'\n",
    "for synset in wn.synsets(word):\n",
    "    print(word + ' - ' + synset.definition())"
   ]
  },
  {
   "cell_type": "markdown",
   "id": "d1a4309c",
   "metadata": {},
   "source": [
    "**Проверим насколько хорошо работает такой метод на датасете из семинара**"
   ]
  },
  {
   "cell_type": "markdown",
   "id": "799b8806",
   "metadata": {},
   "source": [
    "Нужно для каждого многозначного слова (т.е. у него есть тэг в первом поле) с помощью алгоритма Леска предсказать нужный синсет и сравнить с правильным (посчитать процент правильных предсказаний - accuracy)."
   ]
  },
  {
   "cell_type": "code",
   "execution_count": 5,
   "id": "1aa7ae8f",
   "metadata": {},
   "outputs": [],
   "source": [
    "corpus_wsd = []\n",
    "corpus = open('corpus_wsd_50k.txt').read().split('\\n\\n')\n",
    "# чтобы считалось быстрее, был взят не весь корпус\n",
    "for sent in corpus[:10000]:\n",
    "    corpus_wsd.append([s.split('\\t') for s in sent.split('\\n')])"
   ]
  },
  {
   "cell_type": "code",
   "execution_count": 6,
   "id": "a7361664",
   "metadata": {},
   "outputs": [],
   "source": [
    "window = 5 # отвечает за размер контекста - здесь берутся 10 ближайшиз слов (5 слева и 5 справа)\n",
    "rights = 0 # кол-во правильных предсказаний\n",
    "count = 0 # кол-во многозначных слов\n",
    "\n",
    "for sent_wsd in corpus_wsd:\n",
    "     sentence = [w_wsd[2] for w_wsd in sent_wsd] # реконструкция предложения в виде списка\n",
    "     for word_wsd in sent_wsd:\n",
    "        # работаем только с многозначными словами\n",
    "        if word_wsd[0] != '':\n",
    "            count += 1\n",
    "            l = sent_wsd.index(word_wsd) # показывает позицию слова в предложении\n",
    "            context = sentence[max(0, l-window):l] + sentence[l+1:l+window+1]\n",
    "            lesk(word_wsd[1], context)\n",
    "            mypred = wn.synsets(word_wsd[1])[bestsense]\n",
    "            wsdpred = wn.lemma_from_key(word_wsd[0]).synset()\n",
    "            if mypred == wsdpred:\n",
    "                rights += 1\n",
    "\n",
    "accuracy = rights/count"
   ]
  },
  {
   "cell_type": "code",
   "execution_count": 7,
   "id": "85241377",
   "metadata": {},
   "outputs": [
    {
     "name": "stdout",
     "output_type": "stream",
     "text": [
      "Общее число многозначных слов в корпусе: 93950\n",
      "Правильные предсказания: 38.89%\n"
     ]
    }
   ],
   "source": [
    "print('Общее число многозначных слов в корпусе: {}'.format(count))\n",
    "print('Правильные предсказания: {:.2%}'.format(accuracy))"
   ]
  }
 ],
 "metadata": {
  "kernelspec": {
   "display_name": "Python 3",
   "language": "python",
   "name": "python3"
  },
  "language_info": {
   "codemirror_mode": {
    "name": "ipython",
    "version": 3
   },
   "file_extension": ".py",
   "mimetype": "text/x-python",
   "name": "python",
   "nbconvert_exporter": "python",
   "pygments_lexer": "ipython3",
   "version": "3.8.8"
  }
 },
 "nbformat": 4,
 "nbformat_minor": 5
}
